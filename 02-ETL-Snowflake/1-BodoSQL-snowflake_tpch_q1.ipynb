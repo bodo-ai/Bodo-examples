{
 "cells": [
  {
   "cell_type": "markdown",
   "id": "3f73e774",
   "metadata": {},
   "source": [
    "### Configuring credentials\n",
    "To run the following code, ensure that you have the following environment variables set:\n",
    "* `SF_USERNAME`\n",
    "* `SF_PASSWORD`\n",
    "* `SF_ACCOUNT`\n",
    "* `DATABASE_NAME`\n",
    "\n",
    "This example uses data from TPC-H. In your snowflake account, ensure that you can access the [TPC-H sample database](https://docs.snowflake.com/en/user-guide/sample-data-tpch)."
   ]
  },
  {
   "cell_type": "code",
   "execution_count": 3,
   "id": "e6ff2247-29ce-4474-abe6-dc40630d27b4",
   "metadata": {
    "execution": {
     "iopub.execute_input": "2022-07-06T17:44:34.992038Z",
     "iopub.status.busy": "2022-07-06T17:44:34.991704Z",
     "iopub.status.idle": "2022-07-06T17:44:45.770391Z",
     "shell.execute_reply": "2022-07-06T17:44:45.769881Z",
     "shell.execute_reply.started": "2022-07-06T17:44:34.992017Z"
    },
    "tags": []
   },
   "outputs": [],
   "source": [
    "import os\n",
    "username=os.environ[\"SF_USERNAME\"]\n",
    "password=os.environ[\"SF_PASSWORD\"]\n",
    "account=os.environ[\"SF_ACCOUNT\"]\n",
    "warehouse=\"TEST_WH\"\n",
    "database=os.environ[\"DATABASE_NAME\"]\n",
    "schema=\"TPCH_SF1\""
   ]
  },
  {
   "cell_type": "code",
   "execution_count": 7,
   "id": "e34b490c-2eda-4b09-ad21-bb8313c1fff0",
   "metadata": {
    "execution": {
     "iopub.execute_input": "2022-07-06T17:44:49.434202Z",
     "iopub.status.busy": "2022-07-06T17:44:49.433915Z",
     "iopub.status.idle": "2022-07-06T17:45:09.991994Z",
     "shell.execute_reply": "2022-07-06T17:45:09.991491Z",
     "shell.execute_reply.started": "2022-07-06T17:44:49.434182Z"
    },
    "tags": []
   },
   "outputs": [
    {
     "name": "stdout",
     "output_type": "stream",
     "text": [
      "Q01 Execution time (s):  8.574808000000303\n"
     ]
    }
   ],
   "source": [
    "import time\n",
    "import bodo\n",
    "import bodosql\n",
    "@bodo.jit(cache=False)\n",
    "def tpch_q01_sql(schema,conn_str):\n",
    "    t1 = time.time()\n",
    "    bc = bodosql.BodoSQLContext(\n",
    "        {\n",
    "            \"LINEITEM\": bodosql.TablePath(\n",
    "                f\"{schema}.lineitem\", \"sql\", conn_str=conn_str, reorder_io=True\n",
    "            ),\n",
    "        })\n",
    "    total = bc.sql(\n",
    "        \"\"\"select\n",
    "                l_returnflag,\n",
    "                l_linestatus,\n",
    "                sum(l_quantity) as sum_qty,\n",
    "                sum(l_extendedprice) as sum_base_price,\n",
    "                sum(l_extendedprice * (1 - l_discount)) as sum_disc_price,\n",
    "                sum(l_extendedprice * (1 - l_discount) * (1 + l_tax)) as sum_charge,\n",
    "                avg(l_quantity) as avg_qty,\n",
    "                avg(l_extendedprice) as avg_price,\n",
    "                avg(l_discount) as avg_disc,\n",
    "                count(*) as count_order\n",
    "            from\n",
    "                lineitem\n",
    "            where\n",
    "                l_shipdate <= date '1998-12-01' - interval '90' day\n",
    "            group by\n",
    "                l_returnflag,\n",
    "                l_linestatus\n",
    "            order by\n",
    "                l_returnflag,\n",
    "                l_linestatus\"\"\"\n",
    "    )\n",
    "\n",
    "    print(\"Q01 Execution time (s): \", time.time() - t1)\n",
    "    return total\n",
    "\n",
    "q1_result=tpch_q01_sql(schema,f\"snowflake://{username}:{password}@{account}/{database}/PUBLIC?warehouse={warehouse}\")"
   ]
  },
  {
   "cell_type": "code",
   "execution_count": 8,
   "id": "4dfc0d1f-8596-43bf-9aa5-035ee46405bb",
   "metadata": {
    "execution": {
     "iopub.execute_input": "2022-07-06T17:45:17.517329Z",
     "iopub.status.busy": "2022-07-06T17:45:17.517027Z",
     "iopub.status.idle": "2022-07-06T17:45:17.553368Z",
     "shell.execute_reply": "2022-07-06T17:45:17.552881Z",
     "shell.execute_reply.started": "2022-07-06T17:45:17.517307Z"
    },
    "tags": []
   },
   "outputs": [
    {
     "data": {
      "text/html": [
       "<div>\n",
       "<style scoped>\n",
       "    .dataframe tbody tr th:only-of-type {\n",
       "        vertical-align: middle;\n",
       "    }\n",
       "\n",
       "    .dataframe tbody tr th {\n",
       "        vertical-align: top;\n",
       "    }\n",
       "\n",
       "    .dataframe thead th {\n",
       "        text-align: right;\n",
       "    }\n",
       "</style>\n",
       "<table border=\"1\" class=\"dataframe\">\n",
       "  <thead>\n",
       "    <tr style=\"text-align: right;\">\n",
       "      <th></th>\n",
       "      <th>L_RETURNFLAG</th>\n",
       "      <th>L_LINESTATUS</th>\n",
       "      <th>SUM_QTY</th>\n",
       "      <th>SUM_BASE_PRICE</th>\n",
       "      <th>SUM_DISC_PRICE</th>\n",
       "      <th>SUM_CHARGE</th>\n",
       "      <th>AVG_QTY</th>\n",
       "      <th>AVG_PRICE</th>\n",
       "      <th>AVG_DISC</th>\n",
       "      <th>COUNT_ORDER</th>\n",
       "    </tr>\n",
       "  </thead>\n",
       "  <tbody>\n",
       "    <tr>\n",
       "      <th>0</th>\n",
       "      <td>A</td>\n",
       "      <td>F</td>\n",
       "      <td>37734107.0</td>\n",
       "      <td>56586554400.729996</td>\n",
       "      <td>53758257134.869995</td>\n",
       "      <td>55909065222.827705</td>\n",
       "      <td>25.522006</td>\n",
       "      <td>38273.129735</td>\n",
       "      <td>0.049985</td>\n",
       "      <td>1478493</td>\n",
       "    </tr>\n",
       "    <tr>\n",
       "      <th>1</th>\n",
       "      <td>N</td>\n",
       "      <td>F</td>\n",
       "      <td>991417.0</td>\n",
       "      <td>1487504710.38</td>\n",
       "      <td>1413082168.0541</td>\n",
       "      <td>1469649223.194375</td>\n",
       "      <td>25.516472</td>\n",
       "      <td>38284.467761</td>\n",
       "      <td>0.050093</td>\n",
       "      <td>38854</td>\n",
       "    </tr>\n",
       "    <tr>\n",
       "      <th>2</th>\n",
       "      <td>N</td>\n",
       "      <td>O</td>\n",
       "      <td>74476040.0</td>\n",
       "      <td>111701729697.73999</td>\n",
       "      <td>106118230307.605591</td>\n",
       "      <td>110367043872.497009</td>\n",
       "      <td>25.502227</td>\n",
       "      <td>38249.117989</td>\n",
       "      <td>0.049997</td>\n",
       "      <td>2920374</td>\n",
       "    </tr>\n",
       "    <tr>\n",
       "      <th>3</th>\n",
       "      <td>R</td>\n",
       "      <td>F</td>\n",
       "      <td>37719753.0</td>\n",
       "      <td>56568041380.899994</td>\n",
       "      <td>53741292684.604004</td>\n",
       "      <td>55889619119.831924</td>\n",
       "      <td>25.505794</td>\n",
       "      <td>38250.854626</td>\n",
       "      <td>0.050009</td>\n",
       "      <td>1478870</td>\n",
       "    </tr>\n",
       "  </tbody>\n",
       "</table>\n",
       "</div>"
      ],
      "text/plain": [
       "  L_RETURNFLAG L_LINESTATUS     SUM_QTY      SUM_BASE_PRICE  \\\n",
       "0            A            F  37734107.0  56586554400.729996   \n",
       "1            N            F    991417.0       1487504710.38   \n",
       "2            N            O  74476040.0  111701729697.73999   \n",
       "3            R            F  37719753.0  56568041380.899994   \n",
       "\n",
       "        SUM_DISC_PRICE           SUM_CHARGE    AVG_QTY     AVG_PRICE  \\\n",
       "0   53758257134.869995   55909065222.827705  25.522006  38273.129735   \n",
       "1      1413082168.0541    1469649223.194375  25.516472  38284.467761   \n",
       "2  106118230307.605591  110367043872.497009  25.502227  38249.117989   \n",
       "3   53741292684.604004   55889619119.831924  25.505794  38250.854626   \n",
       "\n",
       "   AVG_DISC  COUNT_ORDER  \n",
       "0  0.049985      1478493  \n",
       "1  0.050093        38854  \n",
       "2  0.049997      2920374  \n",
       "3  0.050009      1478870  "
      ]
     },
     "execution_count": 8,
     "metadata": {},
     "output_type": "execute_result"
    }
   ],
   "source": [
    "q1_result"
   ]
  },
  {
   "cell_type": "markdown",
   "id": "d7ab1523",
   "metadata": {},
   "source": [
    "### Configuring credentials\n",
    "The following code requires AWS credientials i.e. ensure that you have run `aws configure`"
   ]
  },
  {
   "cell_type": "code",
   "execution_count": 16,
   "id": "f7525aad-4387-4094-99b2-35ebdb808b8e",
   "metadata": {
    "execution": {
     "iopub.execute_input": "2022-05-20T16:53:42.629054Z",
     "iopub.status.busy": "2022-05-20T16:53:42.628806Z",
     "iopub.status.idle": "2022-05-20T16:53:45.392184Z",
     "shell.execute_reply": "2022-05-20T16:53:45.391813Z",
     "shell.execute_reply.started": "2022-05-20T16:53:42.629032Z"
    },
    "tags": []
   },
   "outputs": [
    {
     "name": "stdout",
     "output_type": "stream",
     "text": [
      "Execution time (s):  1.527407999999923\n"
     ]
    }
   ],
   "source": [
    "import time\n",
    "import bodo\n",
    "import bodosql\n",
    "@bodo.jit(cache=True)\n",
    "def divvy_sql():\n",
    "    t1 = time.time()\n",
    "    bc = bodosql.BodoSQLContext(\n",
    "        {\n",
    "            \"DIVVY\": bodosql.TablePath(\n",
    "                \"s3://bodo-divvy-data/parquet\", \"parquet\"\n",
    "            ),\n",
    "        })\n",
    "    df = bc.sql(\n",
    "        \"\"\"select\n",
    "               \\\"member_casual\\\",count(*) as count from divvy group by \\\"member_casual\\\"\"\"\"\n",
    "    )\n",
    "    print(\"Execution time (s): \", time.time() - t1)\n",
    "    return df\n",
    "\n",
    "df=divvy_sql()"
   ]
  },
  {
   "cell_type": "code",
   "execution_count": 17,
   "id": "3cb72edc-7d7b-400d-8c9b-68bde58b0398",
   "metadata": {
    "execution": {
     "iopub.execute_input": "2022-05-20T16:53:50.842452Z",
     "iopub.status.busy": "2022-05-20T16:53:50.842198Z",
     "iopub.status.idle": "2022-05-20T16:53:50.886430Z",
     "shell.execute_reply": "2022-05-20T16:53:50.886058Z",
     "shell.execute_reply.started": "2022-05-20T16:53:50.842432Z"
    },
    "tags": []
   },
   "outputs": [
    {
     "data": {
      "text/html": [
       "<div>\n",
       "<style scoped>\n",
       "    .dataframe tbody tr th:only-of-type {\n",
       "        vertical-align: middle;\n",
       "    }\n",
       "\n",
       "    .dataframe tbody tr th {\n",
       "        vertical-align: top;\n",
       "    }\n",
       "\n",
       "    .dataframe thead th {\n",
       "        text-align: right;\n",
       "    }\n",
       "</style>\n",
       "<table border=\"1\" class=\"dataframe\">\n",
       "  <thead>\n",
       "    <tr style=\"text-align: right;\">\n",
       "      <th></th>\n",
       "      <th>member_casual</th>\n",
       "      <th>COUNT</th>\n",
       "    </tr>\n",
       "  </thead>\n",
       "  <tbody>\n",
       "    <tr>\n",
       "      <th>0</th>\n",
       "      <td>casual</td>\n",
       "      <td>1376114</td>\n",
       "    </tr>\n",
       "    <tr>\n",
       "      <th>1</th>\n",
       "      <td>member</td>\n",
       "      <td>1866825</td>\n",
       "    </tr>\n",
       "  </tbody>\n",
       "</table>\n",
       "</div>"
      ],
      "text/plain": [
       "  member_casual    COUNT\n",
       "0        casual  1376114\n",
       "1        member  1866825"
      ]
     },
     "execution_count": 17,
     "metadata": {},
     "output_type": "execute_result"
    }
   ],
   "source": [
    "df"
   ]
  },
  {
   "cell_type": "code",
   "execution_count": 18,
   "id": "a8e597ae",
   "metadata": {
    "execution": {
     "iopub.execute_input": "2022-05-20T16:58:39.562831Z",
     "iopub.status.busy": "2022-05-20T16:58:39.562532Z",
     "iopub.status.idle": "2022-05-20T16:58:48.369909Z",
     "shell.execute_reply": "2022-05-20T16:58:48.369491Z",
     "shell.execute_reply.started": "2022-05-20T16:58:39.562814Z"
    },
    "tags": []
   },
   "outputs": [],
   "source": [
    "schema=\"TPCH_SF10\""
   ]
  },
  {
   "cell_type": "code",
   "execution_count": 19,
   "id": "717d092b",
   "metadata": {
    "execution": {
     "iopub.execute_input": "2022-05-20T16:59:18.996351Z",
     "iopub.status.busy": "2022-05-20T16:59:18.995891Z",
     "iopub.status.idle": "2022-05-20T16:59:47.990780Z",
     "shell.execute_reply": "2022-05-20T16:59:47.990393Z",
     "shell.execute_reply.started": "2022-05-20T16:59:18.996329Z"
    },
    "tags": []
   },
   "outputs": [
    {
     "name": "stdout",
     "output_type": "stream",
     "text": [
      "Q01 Execution time (s):  46.32196000000022\n"
     ]
    }
   ],
   "source": [
    "import time\n",
    "import bodo\n",
    "import bodosql\n",
    "@bodo.jit(cache=True)\n",
    "def tpch_q01_sql(schema,conn_str):\n",
    "    t1 = time.time()\n",
    "    bc = bodosql.BodoSQLContext(\n",
    "        {\n",
    "            \"LINEITEM\": bodosql.TablePath(\n",
    "                f\"{schema}.lineitem\", \"sql\", conn_str=conn_str, reorder_io=True\n",
    "            ),\n",
    "        })\n",
    "    total = bc.sql(\n",
    "        \"\"\"select\n",
    "                l_returnflag,\n",
    "                l_linestatus,\n",
    "                sum(l_quantity) as sum_qty,\n",
    "                sum(l_extendedprice) as sum_base_price,\n",
    "                sum(l_extendedprice * (1 - l_discount)) as sum_disc_price,\n",
    "                sum(l_extendedprice * (1 - l_discount) * (1 + l_tax)) as sum_charge,\n",
    "                avg(l_quantity) as avg_qty,\n",
    "                avg(l_extendedprice) as avg_price,\n",
    "                avg(l_discount) as avg_disc,\n",
    "                count(*) as count_order\n",
    "            from\n",
    "                lineitem\n",
    "            where\n",
    "                l_shipdate <= date '1998-12-01' - interval '90' day\n",
    "            group by\n",
    "                l_returnflag,\n",
    "                l_linestatus\n",
    "            order by\n",
    "                l_returnflag,\n",
    "                l_linestatus\"\"\"\n",
    "    )\n",
    "\n",
    "    print(\"Q01 Execution time (s): \", time.time() - t1)\n",
    "    return total\n",
    "\n",
    "q1_result=tpch_q01_sql(schema,f\"snowflake://{username}:{password}@{account}/{database}/PUBLIC?warehouse={warehouse}\")"
   ]
  },
  {
   "cell_type": "code",
   "execution_count": 20,
   "id": "23c4ab3b",
   "metadata": {
    "tags": []
   },
   "outputs": [
    {
     "data": {
      "text/html": [
       "<div>\n",
       "<style scoped>\n",
       "    .dataframe tbody tr th:only-of-type {\n",
       "        vertical-align: middle;\n",
       "    }\n",
       "\n",
       "    .dataframe tbody tr th {\n",
       "        vertical-align: top;\n",
       "    }\n",
       "\n",
       "    .dataframe thead th {\n",
       "        text-align: right;\n",
       "    }\n",
       "</style>\n",
       "<table border=\"1\" class=\"dataframe\">\n",
       "  <thead>\n",
       "    <tr style=\"text-align: right;\">\n",
       "      <th></th>\n",
       "      <th>L_RETURNFLAG</th>\n",
       "      <th>L_LINESTATUS</th>\n",
       "      <th>SUM_QTY</th>\n",
       "      <th>SUM_BASE_PRICE</th>\n",
       "      <th>SUM_DISC_PRICE</th>\n",
       "      <th>SUM_CHARGE</th>\n",
       "      <th>AVG_QTY</th>\n",
       "      <th>AVG_PRICE</th>\n",
       "      <th>AVG_DISC</th>\n",
       "      <th>COUNT_ORDER</th>\n",
       "    </tr>\n",
       "  </thead>\n",
       "  <tbody>\n",
       "    <tr>\n",
       "      <th>0</th>\n",
       "      <td>A</td>\n",
       "      <td>F</td>\n",
       "      <td>377518399.0</td>\n",
       "      <td>566065727797.25</td>\n",
       "      <td>537759104278.065674</td>\n",
       "      <td>559276670892.116699</td>\n",
       "      <td>25.500975</td>\n",
       "      <td>38237.151009</td>\n",
       "      <td>0.050007</td>\n",
       "      <td>14804077</td>\n",
       "    </tr>\n",
       "    <tr>\n",
       "      <th>1</th>\n",
       "      <td>N</td>\n",
       "      <td>F</td>\n",
       "      <td>9851614.0</td>\n",
       "      <td>14767438399.170006</td>\n",
       "      <td>14028805792.211391</td>\n",
       "      <td>14590490998.366732</td>\n",
       "      <td>25.522448</td>\n",
       "      <td>38257.81066</td>\n",
       "      <td>0.049973</td>\n",
       "      <td>385998</td>\n",
       "    </tr>\n",
       "    <tr>\n",
       "      <th>2</th>\n",
       "      <td>N</td>\n",
       "      <td>O</td>\n",
       "      <td>743124873.0</td>\n",
       "      <td>1114302286901.879883</td>\n",
       "      <td>1058580922144.963989</td>\n",
       "      <td>1100937000170.591309</td>\n",
       "      <td>25.498076</td>\n",
       "      <td>38233.902923</td>\n",
       "      <td>0.050001</td>\n",
       "      <td>29144351</td>\n",
       "    </tr>\n",
       "    <tr>\n",
       "      <th>3</th>\n",
       "      <td>R</td>\n",
       "      <td>F</td>\n",
       "      <td>377732830.0</td>\n",
       "      <td>566431054976.0</td>\n",
       "      <td>538110922664.767578</td>\n",
       "      <td>559634780885.086304</td>\n",
       "      <td>25.508385</td>\n",
       "      <td>38251.219274</td>\n",
       "      <td>0.049997</td>\n",
       "      <td>14808183</td>\n",
       "    </tr>\n",
       "  </tbody>\n",
       "</table>\n",
       "</div>"
      ],
      "text/plain": [
       "  L_RETURNFLAG L_LINESTATUS      SUM_QTY        SUM_BASE_PRICE  \\\n",
       "0            A            F  377518399.0       566065727797.25   \n",
       "1            N            F    9851614.0    14767438399.170006   \n",
       "2            N            O  743124873.0  1114302286901.879883   \n",
       "3            R            F  377732830.0        566431054976.0   \n",
       "\n",
       "         SUM_DISC_PRICE            SUM_CHARGE    AVG_QTY     AVG_PRICE  \\\n",
       "0   537759104278.065674   559276670892.116699  25.500975  38237.151009   \n",
       "1    14028805792.211391    14590490998.366732  25.522448   38257.81066   \n",
       "2  1058580922144.963989  1100937000170.591309  25.498076  38233.902923   \n",
       "3   538110922664.767578   559634780885.086304  25.508385  38251.219274   \n",
       "\n",
       "   AVG_DISC  COUNT_ORDER  \n",
       "0  0.050007     14804077  \n",
       "1  0.049973       385998  \n",
       "2  0.050001     29144351  \n",
       "3  0.049997     14808183  "
      ]
     },
     "execution_count": 20,
     "metadata": {},
     "output_type": "execute_result"
    }
   ],
   "source": [
    "q1_result"
   ]
  },
  {
   "cell_type": "code",
   "execution_count": 22,
   "id": "1929a902",
   "metadata": {
    "execution": {
     "iopub.execute_input": "2022-05-20T16:53:42.629054Z",
     "iopub.status.busy": "2022-05-20T16:53:42.628806Z",
     "iopub.status.idle": "2022-05-20T16:53:45.392184Z",
     "shell.execute_reply": "2022-05-20T16:53:45.391813Z",
     "shell.execute_reply.started": "2022-05-20T16:53:42.629032Z"
    },
    "tags": []
   },
   "outputs": [
    {
     "name": "stdout",
     "output_type": "stream",
     "text": [
      "Execution time (s):  1.5023689999998169\n"
     ]
    }
   ],
   "source": [
    "import time\n",
    "import bodo\n",
    "import bodosql\n",
    "@bodo.jit(cache=True)\n",
    "def divvy_sql():\n",
    "    t1 = time.time()\n",
    "    bc = bodosql.BodoSQLContext(\n",
    "        {\n",
    "            \"DIVVY\": bodosql.TablePath(\n",
    "                \"s3://bodo-divvy-data/parquet\", \"parquet\"\n",
    "            ),\n",
    "        })\n",
    "    df = bc.sql(\n",
    "        \"\"\"select\n",
    "               \\\"member_casual\\\",count(*) as count from divvy group by \\\"member_casual\\\"\"\"\"\n",
    "    )\n",
    "    print(\"Execution time (s): \", time.time() - t1)\n",
    "    return df\n",
    "\n",
    "df=divvy_sql()"
   ]
  },
  {
   "cell_type": "code",
   "execution_count": 23,
   "id": "fbcddeb2",
   "metadata": {
    "execution": {
     "iopub.execute_input": "2022-05-20T16:53:50.842452Z",
     "iopub.status.busy": "2022-05-20T16:53:50.842198Z",
     "iopub.status.idle": "2022-05-20T16:53:50.886430Z",
     "shell.execute_reply": "2022-05-20T16:53:50.886058Z",
     "shell.execute_reply.started": "2022-05-20T16:53:50.842432Z"
    },
    "tags": []
   },
   "outputs": [
    {
     "data": {
      "text/html": [
       "<div>\n",
       "<style scoped>\n",
       "    .dataframe tbody tr th:only-of-type {\n",
       "        vertical-align: middle;\n",
       "    }\n",
       "\n",
       "    .dataframe tbody tr th {\n",
       "        vertical-align: top;\n",
       "    }\n",
       "\n",
       "    .dataframe thead th {\n",
       "        text-align: right;\n",
       "    }\n",
       "</style>\n",
       "<table border=\"1\" class=\"dataframe\">\n",
       "  <thead>\n",
       "    <tr style=\"text-align: right;\">\n",
       "      <th></th>\n",
       "      <th>member_casual</th>\n",
       "      <th>COUNT</th>\n",
       "    </tr>\n",
       "  </thead>\n",
       "  <tbody>\n",
       "    <tr>\n",
       "      <th>0</th>\n",
       "      <td>casual</td>\n",
       "      <td>1376114</td>\n",
       "    </tr>\n",
       "    <tr>\n",
       "      <th>1</th>\n",
       "      <td>member</td>\n",
       "      <td>1866825</td>\n",
       "    </tr>\n",
       "  </tbody>\n",
       "</table>\n",
       "</div>"
      ],
      "text/plain": [
       "  member_casual    COUNT\n",
       "0        casual  1376114\n",
       "1        member  1866825"
      ]
     },
     "execution_count": 23,
     "metadata": {},
     "output_type": "execute_result"
    }
   ],
   "source": [
    "df"
   ]
  }
 ],
 "metadata": {
  "kernelspec": {
   "display_name": "Python 3 (ipykernel)",
   "language": "python",
   "name": "python3"
  },
  "language_info": {
   "codemirror_mode": {
    "name": "ipython",
    "version": 3
   },
   "file_extension": ".py",
   "mimetype": "text/x-python",
   "name": "python",
   "nbconvert_exporter": "python",
   "pygments_lexer": "ipython3",
   "version": "3.12.7"
  }
 },
 "nbformat": 4,
 "nbformat_minor": 5
}
