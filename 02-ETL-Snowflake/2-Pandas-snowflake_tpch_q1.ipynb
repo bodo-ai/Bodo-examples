{
 "cells": [
  {
   "cell_type": "markdown",
   "id": "7d2fe5f5",
   "metadata": {},
   "source": [
    "### Configuring credentials\n",
    "To run the following code, ensure that you have the following environment variables set:\n",
    "* `SF_USERNAME`\n",
    "* `SF_PASSWORD`\n",
    "* `SF_ACCOUNT`\n",
    "* `DATABASE_NAME`\n",
    "\n",
    "This example uses data from TPC-H. In your snowflake account, ensure that you can access the [TPC-H sample database](https://docs.snowflake.com/en/user-guide/sample-data-tpch)."
   ]
  },
  {
   "cell_type": "code",
   "execution_count": 3,
   "id": "938023b2",
   "metadata": {},
   "outputs": [],
   "source": [
    "import os\n",
    "username=os.environ[\"SF_USERNAME\"]\n",
    "password=os.environ[\"SF_PASSWORD\"]\n",
    "account=os.environ[\"SF_ACCOUNT\"]\n",
    "warehouse=\"TEST_WH\"\n",
    "database=os.environ[\"DATABASE_NAME\"]\n",
    "schema=\"TPCH_SF10\""
   ]
  },
  {
   "cell_type": "markdown",
   "id": "a61de7c9-f05b-45d8-8c47-07e16b6890a0",
   "metadata": {},
   "source": [
    "## Predicate Pushdown\n",
    "Bodo does optimization in your code, when you are running a workload against snowflake.\n",
    "In the below query, user is doing a naive Select * query into snowflake.\n",
    "He is the filtering the dataframe based on Shipdate and dropping columns that are not needed.\n",
    "In regular pandas, this would have caused unnecessary i/o and memory usage because all the data from snowflake, would have been brought it.\n",
    "Bodo on the other hand will automatically detect these and push the filter and the needed columns into the query , hence improving i/o and memory utilization.\n",
    "Run the cell below and check the query in snowflake history."
   ]
  },
  {
   "cell_type": "code",
   "execution_count": null,
   "id": "003cb2da-4bc0-4201-a6e0-d6594319b645",
   "metadata": {
    "execution": {
     "iopub.execute_input": "2022-07-06T17:56:20.951952Z",
     "iopub.status.busy": "2022-07-06T17:56:20.951610Z",
     "iopub.status.idle": "2022-07-06T17:56:41.249360Z",
     "shell.execute_reply": "2022-07-06T17:56:41.248874Z",
     "shell.execute_reply.started": "2022-07-06T17:56:20.951929Z"
    },
    "tags": []
   },
   "outputs": [],
   "source": [
    "import bodo\n",
    "import pandas as pd\n",
    "@bodo.jit(cache=True)\n",
    "def load_lineitem(schema):\n",
    "    date = pd.Timestamp(\"1998-09-02\")\n",
    "    lineitem=pd.read_sql(f\"select * from {schema}.LINEITEM\", f\"snowflake://{username}:{password}@{account}/{database}/PUBLIC?warehouse={warehouse}\",)\n",
    "    lineitem=lineitem[lineitem.l_shipdate <= date]\n",
    "    lineitem=lineitem[[\"l_quantity\", \"l_shipdate\"]]\n",
    "    return lineitem\n",
    "lineitem=load_lineitem(schema)"
   ]
  },
  {
   "cell_type": "code",
   "execution_count": 5,
   "id": "b60cc3a2-d669-4526-b873-f432f0cfee74",
   "metadata": {
    "execution": {
     "iopub.execute_input": "2022-07-06T17:57:13.329966Z",
     "iopub.status.busy": "2022-07-06T17:57:13.329635Z",
     "iopub.status.idle": "2022-07-06T17:57:13.359576Z",
     "shell.execute_reply": "2022-07-06T17:57:13.359095Z",
     "shell.execute_reply.started": "2022-07-06T17:57:13.329946Z"
    },
    "tags": []
   },
   "outputs": [
    {
     "data": {
      "text/plain": [
       "(59142609, 2)"
      ]
     },
     "execution_count": 5,
     "metadata": {},
     "output_type": "execute_result"
    }
   ],
   "source": [
    "lineitem.shape"
   ]
  },
  {
   "cell_type": "code",
   "execution_count": 6,
   "id": "2378adbd-2405-41af-b910-dabd1e3dc5e1",
   "metadata": {
    "execution": {
     "iopub.execute_input": "2022-07-06T17:57:50.890776Z",
     "iopub.status.busy": "2022-07-06T17:57:50.890181Z",
     "iopub.status.idle": "2022-07-06T17:57:50.969051Z",
     "shell.execute_reply": "2022-07-06T17:57:50.968559Z",
     "shell.execute_reply.started": "2022-07-06T17:57:50.890753Z"
    }
   },
   "outputs": [],
   "source": [
    "# Let's clear memory before running another query\n",
    "del lineitem"
   ]
  },
  {
   "cell_type": "markdown",
   "id": "ac7f9c2a-df0b-419e-99f2-8ac3f98e73b3",
   "metadata": {},
   "source": [
    "## Superfast connector\n",
    "Bodo also has an improved snowflake connector. Under the hood, the result of the above query is shared across multiple cores in the cluster. Traditional etl tools, will do this sharding by doing an initial range query and then submitting multiple select queries for each of the range. Ex. if we are accessing a table employee, traditional etl tool with run the query with a count(*)\n",
    "select count(*) from 'query'.\n",
    "Once the count is established, the count will be divided by parallelism needed, lets say 8 in this case, 8 queries with different ranges will be pushed to snowflake.\n",
    "\n",
    "This causes unnecessary load on the database and also is not truelly parallel. \n",
    "Bodo , will only submit one query to snowflake and the connector will receive sharded data from snowflake. \n",
    "Run the code below and check snowflake history, you should see only one query submitted."
   ]
  },
  {
   "cell_type": "code",
   "execution_count": 7,
   "id": "e34b490c-2eda-4b09-ad21-bb8313c1fff0",
   "metadata": {
    "execution": {
     "iopub.execute_input": "2022-07-06T17:58:06.613623Z",
     "iopub.status.busy": "2022-07-06T17:58:06.613289Z",
     "iopub.status.idle": "2022-07-06T17:58:32.190450Z",
     "shell.execute_reply": "2022-07-06T17:58:32.189965Z",
     "shell.execute_reply.started": "2022-07-06T17:58:06.613602Z"
    },
    "tags": []
   },
   "outputs": [
    {
     "name": "stdout",
     "output_type": "stream",
     "text": [
      "4\n",
      "Q01 Execution time (s):  62.63550699999996\n"
     ]
    }
   ],
   "source": [
    "import pandas as pd\n",
    "import bodo\n",
    "import time\n",
    "@bodo.jit(cache=True)\n",
    "def tpch_q01_filter(schema):\n",
    "    t1 = time.time()\n",
    "    lineitem=pd.read_sql(f\"select * from {schema}.LINEITEM\", f\"snowflake://{username}:{password}@{account}/{database}/PUBLIC?warehouse={warehouse}\",)\n",
    "    date = pd.Timestamp(\"1998-09-02\")\n",
    "    sel = lineitem.l_shipdate <= date\n",
    "    lineitem_filtered = lineitem[[\"l_quantity\", \"l_extendedprice\", \"l_discount\", \"l_tax\", \"l_returnflag\", \"l_linestatus\",  \"l_shipdate\", \"l_orderkey\"]]\n",
    "    lineitem_filtered = lineitem_filtered[sel]\n",
    "    lineitem_filtered[\"avg_qty\"] = lineitem_filtered.l_quantity\n",
    "    lineitem_filtered[\"avg_price\"] = lineitem_filtered.l_extendedprice\n",
    "    lineitem_filtered[\"disc_price\"] = lineitem_filtered.l_extendedprice * (1 - lineitem_filtered.l_discount)\n",
    "    lineitem_filtered[\"charge\"] = (\n",
    "        lineitem_filtered.l_extendedprice * (1 - lineitem_filtered.l_discount) * (1 + lineitem_filtered.l_tax)\n",
    "    )\n",
    "    gb = lineitem_filtered.groupby([\"l_returnflag\", \"l_linestatus\"], as_index=False)[\n",
    "        \"l_quantity\",\n",
    "        \"l_extendedprice\",\n",
    "        \"disc_price\",\n",
    "        \"charge\",\n",
    "        \"avg_qty\",\n",
    "        \"avg_price\",\n",
    "        \"l_discount\",\n",
    "        \"l_orderkey\",\n",
    "    ]\n",
    "    total = gb.agg(\n",
    "        {\n",
    "            \"l_quantity\": \"sum\",\n",
    "            \"l_extendedprice\": \"sum\",\n",
    "            \"disc_price\": \"sum\",\n",
    "            \"charge\": \"sum\",\n",
    "            \"avg_qty\": \"mean\",\n",
    "            \"avg_price\": \"mean\",\n",
    "            \"l_discount\": \"mean\",\n",
    "            \"l_orderkey\": \"count\",\n",
    "        }\n",
    "    )\n",
    "    total = total.sort_values([\"l_returnflag\", \"l_linestatus\"])\n",
    "    print(len(total))\n",
    "    print(\"Q01 Execution time (s): \", time.time() - t1)\n",
    "    return total\n",
    "\n",
    "q1_result=tpch_q01_filter(schema)"
   ]
  },
  {
   "cell_type": "code",
   "execution_count": 8,
   "id": "7fefe796",
   "metadata": {
    "execution": {
     "iopub.execute_input": "2022-07-06T18:24:32.268723Z",
     "iopub.status.busy": "2022-07-06T18:24:32.268387Z",
     "iopub.status.idle": "2022-07-06T18:24:32.295828Z",
     "shell.execute_reply": "2022-07-06T18:24:32.295344Z",
     "shell.execute_reply.started": "2022-07-06T18:24:32.268702Z"
    },
    "tags": []
   },
   "outputs": [
    {
     "data": {
      "text/html": [
       "<div>\n",
       "<style scoped>\n",
       "    .dataframe tbody tr th:only-of-type {\n",
       "        vertical-align: middle;\n",
       "    }\n",
       "\n",
       "    .dataframe tbody tr th {\n",
       "        vertical-align: top;\n",
       "    }\n",
       "\n",
       "    .dataframe thead th {\n",
       "        text-align: right;\n",
       "    }\n",
       "</style>\n",
       "<table border=\"1\" class=\"dataframe\">\n",
       "  <thead>\n",
       "    <tr style=\"text-align: right;\">\n",
       "      <th></th>\n",
       "      <th>l_returnflag</th>\n",
       "      <th>l_linestatus</th>\n",
       "      <th>l_quantity</th>\n",
       "      <th>l_extendedprice</th>\n",
       "      <th>disc_price</th>\n",
       "      <th>charge</th>\n",
       "      <th>avg_qty</th>\n",
       "      <th>avg_price</th>\n",
       "      <th>l_discount</th>\n",
       "      <th>l_orderkey</th>\n",
       "    </tr>\n",
       "  </thead>\n",
       "  <tbody>\n",
       "    <tr>\n",
       "      <th>3</th>\n",
       "      <td>A</td>\n",
       "      <td>F</td>\n",
       "      <td>377518399.0</td>\n",
       "      <td>566065727797.259766</td>\n",
       "      <td>537759104278.070068</td>\n",
       "      <td>559276670892.124634</td>\n",
       "      <td>25.500975</td>\n",
       "      <td>38237.151009</td>\n",
       "      <td>0.050007</td>\n",
       "      <td>14804077</td>\n",
       "    </tr>\n",
       "    <tr>\n",
       "      <th>1</th>\n",
       "      <td>N</td>\n",
       "      <td>F</td>\n",
       "      <td>9851614.0</td>\n",
       "      <td>14767438399.170021</td>\n",
       "      <td>14028805792.211384</td>\n",
       "      <td>14590490998.366734</td>\n",
       "      <td>25.522448</td>\n",
       "      <td>38257.81066</td>\n",
       "      <td>0.049973</td>\n",
       "      <td>385998</td>\n",
       "    </tr>\n",
       "    <tr>\n",
       "      <th>2</th>\n",
       "      <td>N</td>\n",
       "      <td>O</td>\n",
       "      <td>743124873.0</td>\n",
       "      <td>1114302286901.89917</td>\n",
       "      <td>1058580922144.967529</td>\n",
       "      <td>1100937000170.611816</td>\n",
       "      <td>25.498076</td>\n",
       "      <td>38233.902923</td>\n",
       "      <td>0.050001</td>\n",
       "      <td>29144351</td>\n",
       "    </tr>\n",
       "    <tr>\n",
       "      <th>0</th>\n",
       "      <td>R</td>\n",
       "      <td>F</td>\n",
       "      <td>377732830.0</td>\n",
       "      <td>566431054975.996826</td>\n",
       "      <td>538110922664.77124</td>\n",
       "      <td>559634780885.087769</td>\n",
       "      <td>25.508385</td>\n",
       "      <td>38251.219274</td>\n",
       "      <td>0.049997</td>\n",
       "      <td>14808183</td>\n",
       "    </tr>\n",
       "  </tbody>\n",
       "</table>\n",
       "</div>"
      ],
      "text/plain": [
       "  l_returnflag l_linestatus   l_quantity      l_extendedprice  \\\n",
       "3            A            F  377518399.0  566065727797.259766   \n",
       "1            N            F    9851614.0   14767438399.170021   \n",
       "2            N            O  743124873.0  1114302286901.89917   \n",
       "0            R            F  377732830.0  566431054975.996826   \n",
       "\n",
       "             disc_price                charge    avg_qty     avg_price  \\\n",
       "3   537759104278.070068   559276670892.124634  25.500975  38237.151009   \n",
       "1    14028805792.211384    14590490998.366734  25.522448   38257.81066   \n",
       "2  1058580922144.967529  1100937000170.611816  25.498076  38233.902923   \n",
       "0    538110922664.77124   559634780885.087769  25.508385  38251.219274   \n",
       "\n",
       "   l_discount  l_orderkey  \n",
       "3    0.050007    14804077  \n",
       "1    0.049973      385998  \n",
       "2    0.050001    29144351  \n",
       "0    0.049997    14808183  "
      ]
     },
     "execution_count": 8,
     "metadata": {},
     "output_type": "execute_result"
    }
   ],
   "source": [
    "q1_result"
   ]
  }
 ],
 "metadata": {
  "kernelspec": {
   "display_name": "Python 3 (ipykernel)",
   "language": "python",
   "name": "python3"
  },
  "language_info": {
   "codemirror_mode": {
    "name": "ipython",
    "version": 3
   },
   "file_extension": ".py",
   "mimetype": "text/x-python",
   "name": "python",
   "nbconvert_exporter": "python",
   "pygments_lexer": "ipython3",
   "version": "3.12.7"
  }
 },
 "nbformat": 4,
 "nbformat_minor": 5
}
