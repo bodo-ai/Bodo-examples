{
 "cells": [
  {
   "cell_type": "markdown",
   "id": "d31de458",
   "metadata": {},
   "source": [
    "# Setup\n",
    "\n",
    "This example will go over how to use bodo to read from an iceberg table located in a local filesystem. \n"
   ]
  },
  {
   "cell_type": "code",
   "execution_count": 1,
   "id": "fe0abb49-a88c-45f1-b8de-681dc9c32b77",
   "metadata": {
    "execution": {
     "iopub.execute_input": "2022-07-12T20:10:41.092176Z",
     "iopub.status.busy": "2022-07-12T20:10:41.091902Z",
     "iopub.status.idle": "2022-07-12T20:11:21.012091Z",
     "shell.execute_reply": "2022-07-12T20:11:21.011409Z",
     "shell.execute_reply.started": "2022-07-12T20:10:41.092156Z"
    }
   },
   "outputs": [],
   "source": [
    "import bodo\n",
    "import time\n",
    "import numpy as np\n",
    "import pandas as pd\n",
    "import json\n",
    "import os\n",
    "import pyarrow.fs as pafs"
   ]
  },
  {
   "cell_type": "markdown",
   "id": "411fa67b",
   "metadata": {},
   "source": [
    "For this example, we will read TPCH data from S3. Note, this requires configuring your aws credentials e.g. ensure you have ran `aws configure`."
   ]
  },
  {
   "cell_type": "code",
   "execution_count": 2,
   "id": "27b4d6e3",
   "metadata": {},
   "outputs": [
    {
     "name": "stderr",
     "output_type": "stream",
     "text": [
      "/Users/scottroutledge/Bodo/BodoSQL/bodosql/py4j_gateway.py:47: UserWarning: $JAVA_HOME is currently unset. This occurs when OpenJDK is not installed in your conda environment or when your environment has recently changed by not reactivates. BodoSQL will default to using you system's Java.It is recommended that you use OpenJDK v11 from Conda with BodoSQL. To do so, first run\n",
      "    conda install openjdk=11 -c conda-forge\n",
      "and then reactivate your environment via\n",
      "    conda deactivate && conda activate /Users/scottroutledge/miniforge3\n",
      "  warnings.warn(\n",
      "/Users/scottroutledge/Bodo/bodo/io/parquet_pio.py:1013: BodoWarning: Parquet average row group size is small (448130 bytes) and can have negative impact on performance when reading from remote sources\n",
      "  warnings.warn(\n"
     ]
    }
   ],
   "source": [
    "@bodo.jit\n",
    "def bodo_read_parquet(path):\n",
    "    df = pd.read_parquet(path)\n",
    "    return df\n",
    "\n",
    "bodo_df = bodo_read_parquet(\"s3://bodo-example-data/tpch/SF1/lineitem.pq\")\n",
    "    "
   ]
  },
  {
   "cell_type": "code",
   "execution_count": 3,
   "id": "c829b67c",
   "metadata": {},
   "outputs": [
    {
     "data": {
      "text/plain": [
       "(6001215, 16)"
      ]
     },
     "execution_count": 3,
     "metadata": {},
     "output_type": "execute_result"
    }
   ],
   "source": [
    "bodo_df.shape"
   ]
  },
  {
   "cell_type": "markdown",
   "id": "41cd2ddf",
   "metadata": {},
   "source": [
    "Bodo supports a handful of different catalogs for interacting with Iceberg tables. See Bodo's [iceberg documentation](https://docs.bodo.ai/2024.2/file_io/?h=iceberg#iceberg-section) for more details."
   ]
  },
  {
   "cell_type": "code",
   "execution_count": 4,
   "id": "7982c4d4",
   "metadata": {},
   "outputs": [
    {
     "name": "stdout",
     "output_type": "stream",
     "text": [
      "starting write...\n"
     ]
    },
    {
     "name": "stderr",
     "output_type": "stream",
     "text": [
      "/Users/scottroutledge/Bodo/bodo/submit/worker.py:410: UserWarning: index is not supported for Iceberg tables.\n",
      "  res = func(*args, **kwargs)\n",
      "/Users/scottroutledge/Bodo/iceberg/bodo_iceberg_connector/py4j_support.py:68: UserWarning: $JAVA_HOME is currently unset. This occurs when OpenJDK is not installed in your conda environment or when your environment has recently changed but not reactivated. The Bodo Iceberg Connector will default to using you system's Java.It is recommended that you use OpenJDK v11 from Conda with the Bodo Iceberg Connector. To do so, first run\n",
      "    conda install openjdk=11 -c conda-forge\n",
      "and then reactivate your environment via\n",
      "    conda deactivate && conda activate /Users/scottroutledge/miniforge3\n",
      "  warnings.warn(\n",
      "Launching JVM with Java executable: java\n"
     ]
    }
   ],
   "source": [
    "# Hadoop catalog on local filesystem\n",
    "conn = \"iceberg+file:///Absolute/Path/To/Your/Iceberg/Warehouse/\",\n",
    "# Hadoop catalog on S3:\n",
    "# conn = \"iceberg+s3://<S3 PATH TO ICEBERG WAREHOUSE>\"\n",
    "# AWS Glue:\n",
    "# conn = \"iceberg+glue?<params>//<PATH TO WARHOUSE>\"\n",
    "db_name = \"TEST_DB\"\n",
    "table_name = \"SF1_LINEITEM_PQ\"\n",
    "\n",
    "@bodo.jit\n",
    "def write_iceberg_table(df):\n",
    "    print(\"starting write...\")\n",
    "    df.to_sql(table_name, conn, schema=db_name, if_exists=\"fail\")\n",
    "\n",
    "write_iceberg_table(bodo_df)"
   ]
  },
  {
   "cell_type": "code",
   "execution_count": 5,
   "id": "47eed282",
   "metadata": {},
   "outputs": [],
   "source": [
    "@bodo.jit\n",
    "def read_iceberg_table(conn, table_name, db_name):\n",
    "    df = pd.read_sql_table(\n",
    "            table_name=table_name,\n",
    "            con=conn,\n",
    "            schema=db_name\n",
    "        )\n",
    "    return df"
   ]
  },
  {
   "cell_type": "code",
   "execution_count": 6,
   "id": "64d2779e-abaa-46b0-a824-81f753ced502",
   "metadata": {
    "execution": {
     "iopub.execute_input": "2022-07-12T20:19:43.197801Z",
     "iopub.status.busy": "2022-07-12T20:19:43.197339Z",
     "iopub.status.idle": "2022-07-12T20:19:43.316395Z",
     "shell.execute_reply": "2022-07-12T20:19:43.315917Z",
     "shell.execute_reply.started": "2022-07-12T20:19:43.197778Z"
    },
    "tags": []
   },
   "outputs": [],
   "source": [
    "@bodo.jit\n",
    "def q01(lineitem):\n",
    "    t1 = time.time()\n",
    "    date = pd.Timestamp(\"1998-09-02\")\n",
    "    lineitem_filtered = lineitem.loc[\n",
    "                        :,\n",
    "                        [\n",
    "                            \"L_QUANTITY\",\n",
    "                            \"L_EXTENDEDPRICE\",\n",
    "                            \"L_DISCOUNT\",\n",
    "                            \"L_TAX\",\n",
    "                            \"L_RETURNFLAG\",\n",
    "                            \"L_LINESTATUS\",\n",
    "                            \"L_SHIPDATE\",\n",
    "                            \"L_ORDERKEY\",\n",
    "                        ],\n",
    "                        ]\n",
    "    sel = lineitem_filtered.L_SHIPDATE <= date\n",
    "    lineitem_filtered = lineitem_filtered[sel]\n",
    "    lineitem_filtered[\"AVG_QTY\"] = lineitem_filtered.L_QUANTITY\n",
    "    lineitem_filtered[\"AVG_PRICE\"] = lineitem_filtered.L_EXTENDEDPRICE\n",
    "    lineitem_filtered[\"DISC_PRICE\"] = lineitem_filtered.L_EXTENDEDPRICE * (\n",
    "            1 - lineitem_filtered.L_DISCOUNT\n",
    "    )\n",
    "    lineitem_filtered[\"CHARGE\"] = (\n",
    "            lineitem_filtered.L_EXTENDEDPRICE\n",
    "            * (1 - lineitem_filtered.L_DISCOUNT)\n",
    "            * (1 + lineitem_filtered.L_TAX)\n",
    "    )\n",
    "    gb = lineitem_filtered.groupby([\"L_RETURNFLAG\", \"L_LINESTATUS\"], as_index=False)[\n",
    "        \"L_QUANTITY\",\n",
    "        \"L_EXTENDEDPRICE\",\n",
    "        \"DISC_PRICE\",\n",
    "        \"CHARGE\",\n",
    "        \"AVG_QTY\",\n",
    "        \"AVG_PRICE\",\n",
    "        \"L_DISCOUNT\",\n",
    "        \"L_ORDERKEY\",\n",
    "    ]\n",
    "    total = gb.agg(\n",
    "        {\n",
    "            \"L_QUANTITY\": \"sum\",\n",
    "            \"L_EXTENDEDPRICE\": \"sum\",\n",
    "            \"DISC_PRICE\": \"sum\",\n",
    "            \"CHARGE\": \"sum\",\n",
    "            \"AVG_QTY\": \"mean\",\n",
    "            \"AVG_PRICE\": \"mean\",\n",
    "            \"L_DISCOUNT\": \"mean\",\n",
    "            \"L_ORDERKEY\": \"count\",\n",
    "        }\n",
    "    )\n",
    "    total = total.sort_values([\"L_RETURNFLAG\", \"L_LINESTATUS\"])\n",
    "    print(total.head())\n",
    "    print(\"Q01 Execution time (s): \", time.time() - t1)\n",
    "    "
   ]
  },
  {
   "cell_type": "markdown",
   "id": "987606a6",
   "metadata": {},
   "source": [
    "Finally, we can read from our local table and run a query."
   ]
  },
  {
   "cell_type": "code",
   "execution_count": 7,
   "id": "cd644a25-4f7b-4dce-9504-baeb3efaa859",
   "metadata": {
    "execution": {
     "iopub.execute_input": "2022-07-12T20:19:42.039069Z",
     "iopub.status.busy": "2022-07-12T20:19:42.038724Z",
     "iopub.status.idle": "2022-07-12T20:19:42.153349Z",
     "shell.execute_reply": "2022-07-12T20:19:42.152875Z",
     "shell.execute_reply.started": "2022-07-12T20:19:42.039046Z"
    },
    "tags": []
   },
   "outputs": [],
   "source": [
    "@bodo.jit\n",
    "def run_queries():\n",
    "    print(\"#\" * 128)\n",
    "    print(\"Started Q01 Execution...\")\n",
    "    print(\"#\" * 128)\n",
    "\n",
    "    # Load the data\n",
    "    start_time = time.time()\n",
    "\n",
    "    lineitem = read_iceberg_table(conn, table_name, db_name)\n",
    "\n",
    "    print(\"Read time (s)\", time.time() - start_time)\n",
    "    \n",
    "    q01(lineitem)\n",
    "    "
   ]
  },
  {
   "cell_type": "code",
   "execution_count": 8,
   "id": "c69f0a7c-0dbc-4f29-825c-d9a8dd9afaf4",
   "metadata": {
    "execution": {
     "iopub.execute_input": "2022-07-12T20:20:18.087137Z",
     "iopub.status.busy": "2022-07-12T20:20:18.086748Z",
     "iopub.status.idle": "2022-07-12T20:20:20.444231Z",
     "shell.execute_reply": "2022-07-12T20:20:20.443601Z",
     "shell.execute_reply.started": "2022-07-12T20:20:18.087114Z"
    },
    "tags": []
   },
   "outputs": [
    {
     "name": "stdout",
     "output_type": "stream",
     "text": [
      "################################################################################################################################\n",
      "Started Q01 Execution...\n",
      "################################################################################################################################\n",
      "Read time (s) 0.8145419999998467\n",
      "  L_RETURNFLAG L_LINESTATUS  L_QUANTITY  ...     AVG_PRICE  L_DISCOUNT  L_ORDERKEY\n",
      "3            A            F  37734107.0  ...  38273.129735    0.049985     1478493\n",
      "1            N            F    991417.0  ...  38284.467761    0.050093       38854\n",
      "2            N            O  74476040.0  ...  38249.117989    0.049997     2920374\n",
      "0            R            F  37719753.0  ...  38250.854626    0.050009     1478870\n",
      "\n",
      "[4 rows x 10 columns]\n",
      "Q01 Execution time (s):  0.10305499999981294\n"
     ]
    }
   ],
   "source": [
    "run_queries()"
   ]
  }
 ],
 "metadata": {
  "kernelspec": {
   "display_name": "Python 3 (ipykernel)",
   "language": "python",
   "name": "python3"
  },
  "language_info": {
   "codemirror_mode": {
    "name": "ipython",
    "version": 3
   },
   "file_extension": ".py",
   "mimetype": "text/x-python",
   "name": "python",
   "nbconvert_exporter": "python",
   "pygments_lexer": "ipython3",
   "version": "3.12.7"
  }
 },
 "nbformat": 4,
 "nbformat_minor": 5
}
