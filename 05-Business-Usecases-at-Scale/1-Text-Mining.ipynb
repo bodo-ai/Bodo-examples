{
 "cells": [
  {
   "cell_type": "markdown",
   "metadata": {},
   "source": [
    "# Beer Reviews "
   ]
  },
  {
   "cell_type": "markdown",
   "metadata": {},
   "source": [
    "This example analyzes beer reviews to find the most common words used in positive and negative reviews.\n",
    "Original example can be found [here](https://medium.com/rapids-ai/real-data-has-strings-now-so-do-gpus-994497d55f8e).\n",
    "The size of reviews_sample.csv is 23.1MB.\n",
    "The full dataset is available on \"s3://bodo-example-data/beer/reviews.csv\" and its size is 2.2GB."
   ]
  },
  {
   "cell_type": "code",
   "execution_count": 2,
   "metadata": {
    "execution": {
     "iopub.execute_input": "2022-03-15T18:03:18.892113Z",
     "iopub.status.busy": "2022-03-15T18:03:18.891907Z",
     "iopub.status.idle": "2022-03-15T18:03:21.932488Z",
     "shell.execute_reply": "2022-03-15T18:03:21.932082Z",
     "shell.execute_reply.started": "2022-03-15T18:03:18.892091Z"
    },
    "tags": []
   },
   "outputs": [],
   "source": [
    "import pandas as pd\n",
    "import time\n",
    "import bodo"
   ]
  },
  {
   "cell_type": "markdown",
   "metadata": {},
   "source": [
    "## Preprocessing\n",
    "1. Create lists of stopwords and punctuation that will be removed.\n",
    "2. Define regex that will be used to remove these punctuation and stopwords from the reviews.\n",
    "3. Use the lower and strip functions to convert all letters to lowercase and remove excess whitespace. \n",
    "4. Remove stopwords and punctuation. "
   ]
  },
  {
   "cell_type": "code",
   "execution_count": 3,
   "metadata": {
    "execution": {
     "iopub.execute_input": "2022-03-15T18:03:21.933355Z",
     "iopub.status.busy": "2022-03-15T18:03:21.932967Z",
     "iopub.status.idle": "2022-03-15T18:03:21.956304Z",
     "shell.execute_reply": "2022-03-15T18:03:21.955877Z",
     "shell.execute_reply.started": "2022-03-15T18:03:21.933334Z"
    },
    "tags": []
   },
   "outputs": [
    {
     "name": "stderr",
     "output_type": "stream",
     "text": [
      "<>:5: SyntaxWarning: invalid escape sequence '\\.'\n",
      "<>:5: SyntaxWarning: invalid escape sequence '\\-'\n",
      "<>:5: SyntaxWarning: invalid escape sequence '\\?'\n",
      "<>:5: SyntaxWarning: invalid escape sequence '\\:'\n",
      "<>:5: SyntaxWarning: invalid escape sequence '\\.'\n",
      "<>:5: SyntaxWarning: invalid escape sequence '\\-'\n",
      "<>:5: SyntaxWarning: invalid escape sequence '\\?'\n",
      "<>:5: SyntaxWarning: invalid escape sequence '\\:'\n",
      "/var/folders/w_/z_0_fn150v36jdgzrrlcj8q00000gn/T/ipykernel_34309/1828026842.py:5: SyntaxWarning: invalid escape sequence '\\.'\n",
      "  PUNCT_LIST = [\"\\.\", \"\\-\", \"\\?\", \"\\:\", \":\", \"!\", \"&\", \"'\", \",\"]\n",
      "/var/folders/w_/z_0_fn150v36jdgzrrlcj8q00000gn/T/ipykernel_34309/1828026842.py:5: SyntaxWarning: invalid escape sequence '\\-'\n",
      "  PUNCT_LIST = [\"\\.\", \"\\-\", \"\\?\", \"\\:\", \":\", \"!\", \"&\", \"'\", \",\"]\n",
      "/var/folders/w_/z_0_fn150v36jdgzrrlcj8q00000gn/T/ipykernel_34309/1828026842.py:5: SyntaxWarning: invalid escape sequence '\\?'\n",
      "  PUNCT_LIST = [\"\\.\", \"\\-\", \"\\?\", \"\\:\", \":\", \"!\", \"&\", \"'\", \",\"]\n",
      "/var/folders/w_/z_0_fn150v36jdgzrrlcj8q00000gn/T/ipykernel_34309/1828026842.py:5: SyntaxWarning: invalid escape sequence '\\:'\n",
      "  PUNCT_LIST = [\"\\.\", \"\\-\", \"\\?\", \"\\:\", \":\", \"!\", \"&\", \"'\", \",\"]\n"
     ]
    }
   ],
   "source": [
    "with open(\"nltk-stopwords.txt\", \"r\") as fh:\n",
    "    STOPWORDS = list(map(str.strip, fh.readlines()))\n",
    "\n",
    "\n",
    "PUNCT_LIST = [\"\\.\", \"\\-\", \"\\?\", \"\\:\", \":\", \"!\", \"&\", \"'\", \",\"]\n",
    "punc_regex = \"|\".join([f\"({p})\" for p in PUNCT_LIST])\n",
    "stopword_regex = \"|\".join([f\"\\\\b({s})\\\\b\" for s in STOPWORDS])"
   ]
  },
  {
   "cell_type": "code",
   "execution_count": 4,
   "metadata": {
    "execution": {
     "iopub.execute_input": "2022-03-15T18:03:21.957384Z",
     "iopub.status.busy": "2022-03-15T18:03:21.957185Z",
     "iopub.status.idle": "2022-03-15T18:03:21.976408Z",
     "shell.execute_reply": "2022-03-15T18:03:21.975994Z",
     "shell.execute_reply.started": "2022-03-15T18:03:21.957364Z"
    },
    "tags": []
   },
   "outputs": [],
   "source": [
    "@bodo.jit\n",
    "def preprocess(reviews):\n",
    "    # lowercase and strip\n",
    "    reviews = reviews.str.lower()\n",
    "    reviews = reviews.str.strip()\n",
    "\n",
    "    # remove punctuation and stopwords\n",
    "    reviews = reviews.str.replace(punc_regex, \"\", regex=True)\n",
    "    reviews = reviews.str.replace(stopword_regex, \"\", regex=True)\n",
    "    return reviews"
   ]
  },
  {
   "cell_type": "markdown",
   "metadata": {},
   "source": [
    "## Find the Most Common Words"
   ]
  },
  {
   "cell_type": "code",
   "execution_count": 5,
   "metadata": {
    "execution": {
     "iopub.execute_input": "2022-03-15T18:03:21.977042Z",
     "iopub.status.busy": "2022-03-15T18:03:21.976899Z",
     "iopub.status.idle": "2022-03-15T18:03:59.414754Z",
     "shell.execute_reply": "2022-03-15T18:03:59.414356Z",
     "shell.execute_reply.started": "2022-03-15T18:03:21.977024Z"
    },
    "tags": []
   },
   "outputs": [
    {
     "name": "stderr",
     "output_type": "stream",
     "text": [
      "/Users/scottroutledge/Bodo/BodoSQL/bodosql/py4j_gateway.py:47: UserWarning: $JAVA_HOME is currently unset. This occurs when OpenJDK is not installed in your conda environment or when your environment has recently changed by not reactivates. BodoSQL will default to using you system's Java.It is recommended that you use OpenJDK v11 from Conda with BodoSQL. To do so, first run\n",
      "    conda install openjdk=11 -c conda-forge\n",
      "and then reactivate your environment via\n",
      "    conda deactivate && conda activate /Users/scottroutledge/miniforge3\n",
      "  warnings.warn(\n"
     ]
    },
    {
     "name": "stdout",
     "output_type": "stream",
     "text": [
      "read time 2.4556800000000294\n",
      "preprocess time 8.18652700000007\n",
      "high/low time 0.17107900000007703\n",
      "value_counts time 0.02528899999992973\n",
      "total time 10.83871899999997\n",
      "text\n",
      "beer         333\n",
      "one          158\n",
      "taste        140\n",
      "head         119\n",
      "like         117\n",
      "best         102\n",
      "dark          90\n",
      "chocolate     90\n",
      "great         86\n",
      "perfect       80\n",
      "good          79\n",
      "sweet         77\n",
      "smell         73\n",
      "bottle        72\n",
      "ive           70\n",
      "flavor        68\n",
      "glass         65\n",
      "well          65\n",
      "ever          65\n",
      "aroma         64\n",
      "nice          64\n",
      "malt          63\n",
      "beers         62\n",
      "hops          62\n",
      "bourbon       62\n",
      "Name: count, dtype: int64\n",
      "text\n",
      "beer           239\n",
      "like           109\n",
      "taste          104\n",
      "head            69\n",
      "light           65\n",
      "one             65\n",
      "smell           57\n",
      "bad             53\n",
      "bottle          52\n",
      "really          49\n",
      "good            41\n",
      "would           40\n",
      "get             38\n",
      "water           35\n",
      "flavor          33\n",
      "beers           32\n",
      "much            32\n",
      "smells          32\n",
      "carbonation     32\n",
      "glass           31\n",
      "corn            31\n",
      "even            31\n",
      "poured          30\n",
      "tastes          29\n",
      "mouthfeel       29\n",
      "Name: count, dtype: int64\n"
     ]
    }
   ],
   "source": [
    "@bodo.jit\n",
    "def find_top_words(review_filename):\n",
    "    # Load in the data\n",
    "    t_start = time.time()\n",
    "    df = pd.read_csv(review_filename, parse_dates=[2])\n",
    "    print(\"read time\", time.time() - t_start)\n",
    "\n",
    "    score = df.score\n",
    "    reviews = df.text\n",
    "\n",
    "    t1 = time.time()\n",
    "    reviews = preprocess(reviews)\n",
    "    print(\"preprocess time\", time.time() - t1)\n",
    "\n",
    "    t1 = time.time()\n",
    "    # create low and high score series\n",
    "    low_threshold = 1.5\n",
    "    high_threshold = 4.95\n",
    "    high_reviews = reviews[score > high_threshold]\n",
    "    low_reviews = reviews[score <= low_threshold]\n",
    "    high_reviews = high_reviews.dropna()\n",
    "    low_reviews = low_reviews.dropna()\n",
    "\n",
    "    high_colsplit = high_reviews.str.split()\n",
    "    low_colsplit = low_reviews.str.split()\n",
    "    print(\"high/low time\", time.time() - t1)\n",
    "\n",
    "    t1 = time.time()\n",
    "    high_words = high_colsplit.explode()\n",
    "    low_words = low_colsplit.explode()\n",
    "\n",
    "    top_words = high_words.value_counts().head(25)\n",
    "    low_words = low_words.value_counts().head(25)\n",
    "    print(\"value_counts time\", time.time() - t1)\n",
    "    print(\"total time\", time.time() - t_start)\n",
    "    return top_words, low_words\n",
    "\n",
    "    \n",
    "top_words, low_words = find_top_words(\"s3://bodo-example-data/beer/reviews_sample.csv\")\n",
    "\n",
    "print(top_words)\n",
    "print(low_words)"
   ]
  }
 ],
 "metadata": {
  "interpreter": {
   "hash": "16c8ad1c156570dbb9b8c59e261dba05f4270231d6ef51b3fb205099379bfe9f"
  },
  "kernelspec": {
   "display_name": "Python 3 (ipykernel)",
   "language": "python",
   "name": "python3"
  },
  "language_info": {
   "codemirror_mode": {
    "name": "ipython",
    "version": 3
   },
   "file_extension": ".py",
   "mimetype": "text/x-python",
   "name": "python",
   "nbconvert_exporter": "python",
   "pygments_lexer": "ipython3",
   "version": "3.12.7"
  }
 },
 "nbformat": 4,
 "nbformat_minor": 4
}
