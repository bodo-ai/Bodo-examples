{
 "cells": [
  {
   "cell_type": "markdown",
   "metadata": {},
   "source": [
    "# Chicago Crimes\n",
    "This examples shows an exploratory data analysis (EDA)  of crimes in Chicago. \n",
    "\n",
    "Original example can be found [here](https://medium.com/@ahsanzafar222/chicago-crime-data-cleaning-and-eda-a744c687a291) and [here](https://www.kaggle.com/fahd09/eda-of-crime-in-chicago-2005-2016).\n"
   ]
  },
  {
   "cell_type": "code",
   "execution_count": 2,
   "metadata": {
    "execution": {
     "iopub.execute_input": "2022-03-14T20:15:47.609372Z",
     "iopub.status.busy": "2022-03-14T20:15:47.609138Z",
     "iopub.status.idle": "2022-03-14T20:15:57.664341Z",
     "shell.execute_reply": "2022-03-14T20:15:57.663412Z",
     "shell.execute_reply.started": "2022-03-14T20:15:47.609354Z"
    },
    "tags": []
   },
   "outputs": [],
   "source": [
    "import pandas as pd\n",
    "import time\n",
    "import bodo"
   ]
  },
  {
   "cell_type": "code",
   "execution_count": 3,
   "metadata": {},
   "outputs": [
    {
     "name": "stderr",
     "output_type": "stream",
     "text": [
      "/Users/scottroutledge/Bodo/BodoSQL/bodosql/py4j_gateway.py:47: UserWarning: $JAVA_HOME is currently unset. This occurs when OpenJDK is not installed in your conda environment or when your environment has recently changed by not reactivates. BodoSQL will default to using you system's Java.It is recommended that you use OpenJDK v11 from Conda with BodoSQL. To do so, first run\n",
      "    conda install openjdk=11 -c conda-forge\n",
      "and then reactivate your environment via\n",
      "    conda deactivate && conda activate /Users/scottroutledge/miniforge3\n",
      "  warnings.warn(\n"
     ]
    },
    {
     "name": "stdout",
     "output_type": "stream",
     "text": [
      "Hello World from rank 0  Total ranks = 10\n",
      "Hello World from rank 2  Total ranks = 10\n",
      "Hello World from rank 8  Total ranks = 10\n",
      "Hello World from rank 7  Total ranks = 10\n",
      "Hello World from rank 6  Total ranks = 10\n",
      "Hello World from rank 4  Total ranks = 10\n",
      "Hello World from rank 5  Total ranks = 10\n",
      "Hello World from rank 1  Total ranks = 10\n",
      "Hello World from rank 9  Total ranks = 10\n",
      "Hello World from rank 3  Total ranks = 10\n"
     ]
    }
   ],
   "source": [
    "@bodo.jit\n",
    "def hello():\n",
    "    print(\"Hello World from rank\", bodo.get_rank(), \" Total ranks =\", bodo.get_size())\n",
    "\n",
    "hello()"
   ]
  },
  {
   "cell_type": "markdown",
   "metadata": {},
   "source": [
    "## Load Crimes Data in Chicago 2005 - 2017"
   ]
  },
  {
   "cell_type": "code",
   "execution_count": 4,
   "metadata": {
    "execution": {
     "iopub.execute_input": "2022-03-14T20:15:57.665071Z",
     "iopub.status.busy": "2022-03-14T20:15:57.664876Z",
     "iopub.status.idle": "2022-03-14T20:16:08.076505Z",
     "shell.execute_reply": "2022-03-14T20:16:08.075633Z",
     "shell.execute_reply.started": "2022-03-14T20:15:57.665049Z"
    },
    "tags": []
   },
   "outputs": [
    {
     "name": "stdout",
     "output_type": "stream",
     "text": [
      "Reading time:  92526.16999999998  (ms)\n",
      "         Unnamed: 0    ID Case Number                    Date  \\\n",
      "1324003     4897380  3012    HL101040  01/01/2005 01:15:00 PM   \n",
      "1324004     4898204  3013    HK826899  01/02/2005 09:45:00 PM   \n",
      "1324005     4898986  3014    HL106602  01/04/2005 04:39:00 PM   \n",
      "1324006     4899770  3015    HL107444  01/05/2005 04:07:00 AM   \n",
      "1324007     4900593  3016    HL112637  01/08/2005 03:15:00 AM   \n",
      "\n",
      "                         Block  IUCR Primary Type          Description  \\\n",
      "1324003  076XX S GREENWOOD AVE  0110     HOMICIDE  FIRST DEGREE MURDER   \n",
      "1324004        029XX E 82ND ST  0110     HOMICIDE  FIRST DEGREE MURDER   \n",
      "1324005  070XX S CONSTANCE AVE  0110     HOMICIDE  FIRST DEGREE MURDER   \n",
      "1324006     095XX S COLFAX AVE  0110     HOMICIDE  FIRST DEGREE MURDER   \n",
      "1324007      015XX N DAYTON ST  0110     HOMICIDE  FIRST DEGREE MURDER   \n",
      "\n",
      "        Location Description Arrest  ...  Ward  Community Area  FBI Code  \\\n",
      "1324003           VACANT LOT   True  ...   8.0            69.0       01A   \n",
      "1324004               STREET   True  ...   7.0            46.0       01A   \n",
      "1324005               STREET  False  ...   5.0            43.0       01A   \n",
      "1324006                 AUTO  False  ...   7.0            51.0       01A   \n",
      "1324007                 CLUB   True  ...  43.0             8.0       01A   \n",
      "\n",
      "         X Coordinate  Y Coordinate  Year              Updated On   Latitude  \\\n",
      "1324003     1184881.0     1854385.0  2005  08/17/2015 03:03:40 PM  41.755589   \n",
      "1324004     1197086.0     1851161.0  2005  08/17/2015 03:03:40 PM  41.746447   \n",
      "1324005     1189760.0     1858598.0  2005  08/17/2015 03:03:40 PM  41.767034   \n",
      "1324006     1195168.0     1842391.0  2005  08/17/2015 03:03:40 PM  41.722429   \n",
      "1324007     1170405.0     1910128.0  2005  08/17/2015 03:03:40 PM   41.90888   \n",
      "\n",
      "         Longitude                       Location  \n",
      "1324003 -87.598021  (41.755589111, -87.598020614)  \n",
      "1324004   -87.5534  (41.746447258, -87.553400264)  \n",
      "1324005 -87.580005  (41.767034119, -87.580005338)  \n",
      "1324006 -87.560717  (41.722429119, -87.560716591)  \n",
      "1324007 -87.649445  (41.908880377, -87.649445039)  \n",
      "\n",
      "[5 rows x 23 columns]\n"
     ]
    }
   ],
   "source": [
    "@bodo.jit(cache=True)\n",
    "def load_chicago_crimes():\n",
    "    t1 = time.time()\n",
    "    crimes1 = pd.read_csv('s3://bodo-example-data/chicago-crimes/Chicago_Crimes_2005_to_2007.csv')\n",
    "    crimes2 = pd.read_csv('s3://bodo-example-data/chicago-crimes/Chicago_Crimes_2008_to_2011.csv')\n",
    "    crimes3 = pd.read_csv('s3://bodo-example-data/chicago-crimes/Chicago_Crimes_2012_to_2017.csv')\n",
    "    crimes = pd.concat([crimes1, crimes2, crimes3], ignore_index=False, axis=0)\n",
    "    crimes = crimes.sort_values(by=\"ID\")\n",
    "    print(\"Reading time: \", ((time.time() - t1) * 1000), \" (ms)\")    \n",
    "    return crimes\n",
    "\n",
    "crimes1 = load_chicago_crimes()\n",
    "\n",
    "print(crimes1.head())"
   ]
  },
  {
   "cell_type": "markdown",
   "metadata": {},
   "source": [
    "## Preprocessing and Cleaning\n",
    " 1. Drop duplicated cases, filter unused columns, and add day of week and date of the crime.\n",
    " 2. Keep only the most frequent crime type categories.\n"
   ]
  },
  {
   "cell_type": "code",
   "execution_count": 5,
   "metadata": {
    "execution": {
     "iopub.execute_input": "2022-03-14T20:16:08.077734Z",
     "iopub.status.busy": "2022-03-14T20:16:08.077545Z",
     "iopub.status.idle": "2022-03-14T20:16:10.248226Z",
     "shell.execute_reply": "2022-03-14T20:16:10.247468Z",
     "shell.execute_reply.started": "2022-03-14T20:16:08.077715Z"
    },
    "tags": []
   },
   "outputs": [
    {
     "name": "stdout",
     "output_type": "stream",
     "text": [
      "Data cleanup time:  3806.2260000001515  (ms)\n",
      "           ID                Date                  Block Primary Type  \\\n",
      "1324003  3012 2005-01-01 13:15:00  076XX S GREENWOOD AVE     HOMICIDE   \n",
      "1324004  3013 2005-01-02 21:45:00        029XX E 82ND ST     HOMICIDE   \n",
      "1324005  3014 2005-01-04 16:39:00  070XX S CONSTANCE AVE     HOMICIDE   \n",
      "1324006  3015 2005-01-05 04:07:00     095XX S COLFAX AVE     HOMICIDE   \n",
      "1324007  3016 2005-01-08 03:15:00      015XX N DAYTON ST     HOMICIDE   \n",
      "\n",
      "                 Description Location Description Arrest Domestic  District  \\\n",
      "1324003  FIRST DEGREE MURDER           VACANT LOT   True    False       6.0   \n",
      "1324004  FIRST DEGREE MURDER               STREET   True    False       4.0   \n",
      "1324005  FIRST DEGREE MURDER               STREET  False    False       3.0   \n",
      "1324006  FIRST DEGREE MURDER                 AUTO  False    False       4.0   \n",
      "1324007  FIRST DEGREE MURDER                 CLUB   True    False      18.0   \n",
      "\n",
      "         X Coordinate  Y Coordinate   Latitude  Longitude  dow  date only  \n",
      "1324003     1184881.0     1854385.0  41.755589 -87.598021    5 2005-01-01  \n",
      "1324004     1197086.0     1851161.0  41.746447   -87.5534    6 2005-01-02  \n",
      "1324005     1189760.0     1858598.0  41.767034 -87.580005    1 2005-01-04  \n",
      "1324006     1195168.0     1842391.0  41.722429 -87.560717    2 2005-01-05  \n",
      "1324007     1170405.0     1910128.0   41.90888 -87.649445    5 2005-01-08  \n"
     ]
    }
   ],
   "source": [
    "@bodo.jit(cache=True)\n",
    "def data_cleanup(crimes):\n",
    "    t1 = time.time()    \n",
    "    crimes = crimes.drop_duplicates()    \n",
    "    crimes.drop(['Unnamed: 0', 'Case Number', 'IUCR','Updated On','Year', 'FBI Code', 'Beat','Ward','Community Area', 'Location'], inplace=True, axis=1)\n",
    "    crimes.Date = pd.to_datetime(crimes.Date, format='%m/%d/%Y %I:%M:%S %p')\n",
    "    crimes[\"dow\"] = crimes[\"Date\"].dt.dayofweek\n",
    "    crimes[\"date only\"] = crimes[\"Date\"].dt.floor('D')\n",
    "    crimes = crimes.sort_values(by=\"ID\")    \n",
    "    print(\"Data cleanup time: \", ((time.time() - t1) * 1000), \" (ms)\")\n",
    "    return crimes\n",
    "\n",
    "crimes = data_cleanup(crimes1)\n",
    "\n",
    "print(crimes.head())"
   ]
  },
  {
   "cell_type": "code",
   "execution_count": 6,
   "metadata": {
    "execution": {
     "iopub.execute_input": "2022-03-14T20:16:10.248872Z",
     "iopub.status.busy": "2022-03-14T20:16:10.248693Z",
     "iopub.status.idle": "2022-03-14T20:16:13.814567Z",
     "shell.execute_reply": "2022-03-14T20:16:13.813659Z",
     "shell.execute_reply.started": "2022-03-14T20:16:10.248854Z"
    },
    "tags": []
   },
   "outputs": [
    {
     "name": "stdout",
     "output_type": "stream",
     "text": [
      "Getting top crimes Time:  50.731000000041604  (ms)\n",
      "Index(['THEFT', 'BATTERY', 'CRIMINAL DAMAGE', 'NARCOTICS', 'OTHER OFFENSE',\n",
      "       'BURGLARY', 'ASSAULT', 'MOTOR VEHICLE THEFT', 'DECEPTIVE PRACTICE',\n",
      "       'ROBBERY'],\n",
      "      dtype='string', name='Primary Type')\n"
     ]
    }
   ],
   "source": [
    "@bodo.jit(cache=True)\n",
    "def get_top_crime_types(crimes):\n",
    "    t1 = time.time()\n",
    "    top_crime_types = crimes['Primary Type'].value_counts().index[0:10]\n",
    "    print(\"Getting top crimes Time: \", ((time.time() - t1) * 1000), \" (ms)\")\n",
    "    return top_crime_types\n",
    "\n",
    "top_crime_types = get_top_crime_types(crimes)\n",
    "\n",
    "print(top_crime_types)"
   ]
  },
  {
   "cell_type": "code",
   "execution_count": 7,
   "metadata": {
    "execution": {
     "iopub.execute_input": "2022-03-14T20:16:13.815389Z",
     "iopub.status.busy": "2022-03-14T20:16:13.815201Z",
     "iopub.status.idle": "2022-03-14T20:16:14.062782Z",
     "shell.execute_reply": "2022-03-14T20:16:14.062232Z",
     "shell.execute_reply.started": "2022-03-14T20:16:13.815371Z"
    },
    "tags": []
   },
   "outputs": [
    {
     "name": "stdout",
     "output_type": "stream",
     "text": [
      "Filtering crimes Time:  773.866999999882  (ms)\n",
      "              ID                Date                          Block  \\\n",
      "1325007  3730318 2005-01-01 00:04:00            031XX W HARRISON ST   \n",
      "1325010  3730326 2005-01-01 00:05:00  012XX N LUIS MUNOZ MARIN DR W   \n",
      "1325012  3730338 2005-01-01 01:13:00              019XX N DRAKE AVE   \n",
      "1325013  3730341 2005-01-01 01:30:00               002XX N CANAL ST   \n",
      "1325015  3730348 2005-01-01 00:00:00              006XX E GRAND AVE   \n",
      "\n",
      "            Primary Type                  Description  \\\n",
      "1325007  CRIMINAL DAMAGE  TO CITY OF CHICAGO PROPERTY   \n",
      "1325010  CRIMINAL DAMAGE  TO CITY OF CHICAGO PROPERTY   \n",
      "1325012  CRIMINAL DAMAGE                   TO VEHICLE   \n",
      "1325013            THEFT               POCKET-PICKING   \n",
      "1325015            THEFT               POCKET-PICKING   \n",
      "\n",
      "                    Location Description Arrest Domestic  District  \\\n",
      "1325007  POLICE FACILITY/VEH PARKING LOT  False    False      11.0   \n",
      "1325010                           STREET  False    False      14.0   \n",
      "1325012                           STREET   True    False      14.0   \n",
      "1325013                            OTHER  False    False      12.0   \n",
      "1325015                    PARK PROPERTY  False    False      18.0   \n",
      "\n",
      "         X Coordinate  Y Coordinate   Latitude  Longitude  dow  date only  \n",
      "1325007     1155457.0     1897193.0  41.873699 -87.704705    5 2005-01-01  \n",
      "1325010     1155148.0     1908012.0  41.903394 -87.705549    5 2005-01-01  \n",
      "1325012     1152507.0     1912708.0  41.916333 -87.715126    5 2005-01-01  \n",
      "1325013     1173085.0     1901830.0  41.886051 -87.639846    5 2005-01-01  \n",
      "1325015     1180796.0     1904058.0   41.89199 -87.611462    5 2005-01-01  \n"
     ]
    }
   ],
   "source": [
    "@bodo.jit(cache=True)\n",
    "def filter_crimes(crimes, top_crime_types):\n",
    "    t1 = time.time()\n",
    "    top_crimes = crimes[crimes['Primary Type'].isin(top_crime_types)]\n",
    "    print(\"Filtering crimes Time: \", ((time.time() - t1) * 1000), \" (ms)\")\n",
    "    return top_crimes\n",
    "\n",
    "crimes = filter_crimes(crimes, top_crime_types)\n",
    "print(crimes.head())"
   ]
  },
  {
   "cell_type": "markdown",
   "metadata": {},
   "source": [
    "## Crime Analysis\n",
    "\n",
    "### Find Pattern of each crime over the years\n",
    "\n"
   ]
  },
  {
   "cell_type": "code",
   "execution_count": 8,
   "metadata": {
    "execution": {
     "iopub.execute_input": "2022-03-14T20:16:14.063436Z",
     "iopub.status.busy": "2022-03-14T20:16:14.063242Z",
     "iopub.status.idle": "2022-03-14T20:16:14.146885Z",
     "shell.execute_reply": "2022-03-14T20:16:14.146220Z",
     "shell.execute_reply.started": "2022-03-14T20:16:14.063417Z"
    },
    "tags": []
   },
   "outputs": [
    {
     "name": "stdout",
     "output_type": "stream",
     "text": [
      "Computing Crime Pattern Time:  297.29999999995016  (ms)\n"
     ]
    },
    {
     "name": "stderr",
     "output_type": "stream",
     "text": [
      "/Users/scottroutledge/Bodo/bodo/libs/distributed_api.py:879: FutureWarning: DatetimeArray.__init__ is deprecated and will be removed in a future version. Use pd.array instead.\n",
      "  return gatherv_impl_wrapper(data, allgather, warn_if_rep, root, comm_ptr)\n",
      "/Users/scottroutledge/Bodo/bodo/libs/distributed_api.py:879: FutureWarning: DatetimeArray.__init__ is deprecated and will be removed in a future version. Use pd.array instead.\n",
      "  return gatherv_impl_wrapper(data, allgather, warn_if_rep, root, comm_ptr)\n",
      "/Users/scottroutledge/Bodo/bodo/libs/distributed_api.py:879: FutureWarning: DatetimeArray.__init__ is deprecated and will be removed in a future version. Use pd.array instead.\n",
      "  return gatherv_impl_wrapper(data, allgather, warn_if_rep, root, comm_ptr)\n",
      "/Users/scottroutledge/Bodo/bodo/libs/distributed_api.py:879: FutureWarning: DatetimeArray.__init__ is deprecated and will be removed in a future version. Use pd.array instead.\n",
      "  return gatherv_impl_wrapper(data, allgather, warn_if_rep, root, comm_ptr)\n",
      "/Users/scottroutledge/Bodo/bodo/libs/distributed_api.py:879: FutureWarning: DatetimeArray.__init__ is deprecated and will be removed in a future version. Use pd.array instead.\n",
      "  return gatherv_impl_wrapper(data, allgather, warn_if_rep, root, comm_ptr)\n",
      "/Users/scottroutledge/Bodo/bodo/libs/distributed_api.py:879: FutureWarning: DatetimeArray.__init__ is deprecated and will be removed in a future version. Use pd.array instead.\n",
      "  return gatherv_impl_wrapper(data, allgather, warn_if_rep, root, comm_ptr)\n",
      "/Users/scottroutledge/Bodo/bodo/libs/distributed_api.py:879: FutureWarning: DatetimeArray.__init__ is deprecated and will be removed in a future version. Use pd.array instead.\n",
      "  return gatherv_impl_wrapper(data, allgather, warn_if_rep, root, comm_ptr)\n",
      "/Users/scottroutledge/Bodo/bodo/libs/distributed_api.py:879: FutureWarning: DatetimeArray.__init__ is deprecated and will be removed in a future version. Use pd.array instead.\n",
      "  return gatherv_impl_wrapper(data, allgather, warn_if_rep, root, comm_ptr)\n",
      "/Users/scottroutledge/Bodo/bodo/libs/distributed_api.py:879: FutureWarning: DatetimeArray.__init__ is deprecated and will be removed in a future version. Use pd.array instead.\n",
      "  return gatherv_impl_wrapper(data, allgather, warn_if_rep, root, comm_ptr)\n",
      "/Users/scottroutledge/Bodo/bodo/libs/distributed_api.py:879: FutureWarning: DatetimeArray.__init__ is deprecated and will be removed in a future version. Use pd.array instead.\n",
      "  return gatherv_impl_wrapper(data, allgather, warn_if_rep, root, comm_ptr)\n"
     ]
    }
   ],
   "source": [
    "@bodo.jit(cache=True)\n",
    "def get_crimes_count_date(crimes):\n",
    "    t1 = time.time()\n",
    "    crimes_count_date = crimes.pivot_table(index='date only', columns='Primary Type', values='ID', aggfunc=\"count\")\n",
    "    print(\"Computing Crime Pattern Time: \", ((time.time() - t1) * 1000), \" (ms)\")\n",
    "    return crimes_count_date\n",
    "\n",
    "crimes_count_date = get_crimes_count_date(crimes)"
   ]
  },
  {
   "cell_type": "code",
   "execution_count": 9,
   "metadata": {
    "execution": {
     "iopub.execute_input": "2022-03-14T20:16:14.147750Z",
     "iopub.status.busy": "2022-03-14T20:16:14.147378Z",
     "iopub.status.idle": "2022-03-14T20:16:31.584156Z",
     "shell.execute_reply": "2022-03-14T20:16:31.583655Z",
     "shell.execute_reply.started": "2022-03-14T20:16:14.147731Z"
    },
    "tags": []
   },
   "outputs": [
    {
     "name": "stdout",
     "output_type": "stream",
     "text": [
      "Computing Crime Pattern Time:  218.49900000006528  (ms)\n",
      "            ASSAULT  DECEPTIVE PRACTICE  BURGLARY  OTHER OFFENSE  ROBBERY  \\\n",
      "2017-01-18  20674.0             14518.0   21618.0        21413.0  13580.0   \n",
      "2017-01-17  20993.0             14076.0   21608.0        20826.0  13456.0   \n",
      "2017-01-16  21002.0             14011.0   21571.0        20972.0  13176.0   \n",
      "2017-01-15  20651.0             14545.0   21124.0        20762.0  13087.0   \n",
      "2017-01-14  21029.0             14016.0   21593.0        21013.0  13185.0   \n",
      "\n",
      "            NARCOTICS    THEFT  BATTERY  MOTOR VEHICLE THEFT  CRIMINAL DAMAGE  \n",
      "2017-01-18    36592.0  74123.0  61146.0              15841.0          39269.0  \n",
      "2017-01-17    36543.0  73490.0  60887.0              15281.0          38725.0  \n",
      "2017-01-16    37105.0  73003.0  62734.0              15472.0          39620.0  \n",
      "2017-01-15    35255.0  72906.0  60667.0              15208.0          37882.0  \n",
      "2017-01-14    37265.0  73073.0  62834.0              15504.0          39729.0  \n"
     ]
    },
    {
     "name": "stderr",
     "output_type": "stream",
     "text": [
      "/Users/scottroutledge/Bodo/bodo/libs/distributed_api.py:879: FutureWarning: DatetimeArray.__init__ is deprecated and will be removed in a future version. Use pd.array instead.\n",
      "  return gatherv_impl_wrapper(data, allgather, warn_if_rep, root, comm_ptr)\n",
      "/Users/scottroutledge/Bodo/bodo/libs/distributed_api.py:879: FutureWarning: DatetimeArray.__init__ is deprecated and will be removed in a future version. Use pd.array instead.\n",
      "  return gatherv_impl_wrapper(data, allgather, warn_if_rep, root, comm_ptr)\n",
      "/Users/scottroutledge/Bodo/bodo/libs/distributed_api.py:879: FutureWarning: DatetimeArray.__init__ is deprecated and will be removed in a future version. Use pd.array instead.\n",
      "  return gatherv_impl_wrapper(data, allgather, warn_if_rep, root, comm_ptr)\n",
      "/Users/scottroutledge/Bodo/bodo/libs/distributed_api.py:879: FutureWarning: DatetimeArray.__init__ is deprecated and will be removed in a future version. Use pd.array instead.\n",
      "  return gatherv_impl_wrapper(data, allgather, warn_if_rep, root, comm_ptr)\n",
      "/Users/scottroutledge/Bodo/bodo/libs/distributed_api.py:879: FutureWarning: DatetimeArray.__init__ is deprecated and will be removed in a future version. Use pd.array instead.\n",
      "  return gatherv_impl_wrapper(data, allgather, warn_if_rep, root, comm_ptr)\n",
      "/Users/scottroutledge/Bodo/bodo/libs/distributed_api.py:879: FutureWarning: DatetimeArray.__init__ is deprecated and will be removed in a future version. Use pd.array instead.\n",
      "  return gatherv_impl_wrapper(data, allgather, warn_if_rep, root, comm_ptr)\n",
      "/Users/scottroutledge/Bodo/bodo/libs/distributed_api.py:879: FutureWarning: DatetimeArray.__init__ is deprecated and will be removed in a future version. Use pd.array instead.\n",
      "  return gatherv_impl_wrapper(data, allgather, warn_if_rep, root, comm_ptr)\n",
      "/Users/scottroutledge/Bodo/bodo/libs/distributed_api.py:879: FutureWarning: DatetimeArray.__init__ is deprecated and will be removed in a future version. Use pd.array instead.\n",
      "  return gatherv_impl_wrapper(data, allgather, warn_if_rep, root, comm_ptr)\n",
      "/Users/scottroutledge/Bodo/bodo/libs/distributed_api.py:879: FutureWarning: DatetimeArray.__init__ is deprecated and will be removed in a future version. Use pd.array instead.\n",
      "  return gatherv_impl_wrapper(data, allgather, warn_if_rep, root, comm_ptr)\n",
      "/Users/scottroutledge/Bodo/bodo/libs/distributed_api.py:879: FutureWarning: DatetimeArray.__init__ is deprecated and will be removed in a future version. Use pd.array instead.\n",
      "  return gatherv_impl_wrapper(data, allgather, warn_if_rep, root, comm_ptr)\n",
      "/Users/scottroutledge/Bodo/bodo/libs/distributed_api.py:879: FutureWarning: DatetimeArray.__init__ is deprecated and will be removed in a future version. Use pd.array instead.\n",
      "  return gatherv_impl_wrapper(data, allgather, warn_if_rep, root, comm_ptr)\n",
      "/Users/scottroutledge/Bodo/bodo/libs/distributed_api.py:879: FutureWarning: DatetimeArray.__init__ is deprecated and will be removed in a future version. Use pd.array instead.\n",
      "  return gatherv_impl_wrapper(data, allgather, warn_if_rep, root, comm_ptr)\n",
      "/Users/scottroutledge/Bodo/bodo/libs/distributed_api.py:879: FutureWarning: DatetimeArray.__init__ is deprecated and will be removed in a future version. Use pd.array instead.\n",
      "  return gatherv_impl_wrapper(data, allgather, warn_if_rep, root, comm_ptr)\n",
      "/Users/scottroutledge/Bodo/bodo/libs/distributed_api.py:879: FutureWarning: DatetimeArray.__init__ is deprecated and will be removed in a future version. Use pd.array instead.\n",
      "  return gatherv_impl_wrapper(data, allgather, warn_if_rep, root, comm_ptr)\n",
      "/Users/scottroutledge/Bodo/bodo/libs/distributed_api.py:879: FutureWarning: DatetimeArray.__init__ is deprecated and will be removed in a future version. Use pd.array instead.\n",
      "  return gatherv_impl_wrapper(data, allgather, warn_if_rep, root, comm_ptr)\n",
      "/Users/scottroutledge/Bodo/bodo/libs/distributed_api.py:879: FutureWarning: DatetimeArray.__init__ is deprecated and will be removed in a future version. Use pd.array instead.\n",
      "  return gatherv_impl_wrapper(data, allgather, warn_if_rep, root, comm_ptr)\n",
      "/Users/scottroutledge/Bodo/bodo/libs/distributed_api.py:879: FutureWarning: DatetimeArray.__init__ is deprecated and will be removed in a future version. Use pd.array instead.\n",
      "  return gatherv_impl_wrapper(data, allgather, warn_if_rep, root, comm_ptr)\n",
      "/Users/scottroutledge/Bodo/bodo/libs/distributed_api.py:879: FutureWarning: DatetimeArray.__init__ is deprecated and will be removed in a future version. Use pd.array instead.\n",
      "  return gatherv_impl_wrapper(data, allgather, warn_if_rep, root, comm_ptr)\n",
      "/Users/scottroutledge/Bodo/bodo/libs/distributed_api.py:879: FutureWarning: DatetimeArray.__init__ is deprecated and will be removed in a future version. Use pd.array instead.\n",
      "  return gatherv_impl_wrapper(data, allgather, warn_if_rep, root, comm_ptr)\n",
      "/Users/scottroutledge/Bodo/bodo/libs/distributed_api.py:879: FutureWarning: DatetimeArray.__init__ is deprecated and will be removed in a future version. Use pd.array instead.\n",
      "  return gatherv_impl_wrapper(data, allgather, warn_if_rep, root, comm_ptr)\n"
     ]
    }
   ],
   "source": [
    "@bodo.jit\n",
    "def get_crimes_type_date(crimes_count_date):\n",
    "    t1 = time.time()\n",
    "    crimes_count_date.index = pd.DatetimeIndex(crimes_count_date.index)\n",
    "    result = crimes_count_date.fillna(0).rolling(365).sum()\n",
    "    result = result.sort_index(ascending=False)\n",
    "    print(\"Computing Crime Pattern Time: \", ((time.time() - t1) * 1000), \" (ms)\")\n",
    "    return result\n",
    "\n",
    "get_crimes_type_date = get_crimes_type_date(crimes_count_date)\n",
    "print(get_crimes_type_date.head())"
   ]
  },
  {
   "cell_type": "markdown",
   "metadata": {},
   "source": [
    "## A general view of crime records by time, type and location\n",
    "\n",
    "### Determining the pattern on daily basis"
   ]
  },
  {
   "cell_type": "code",
   "execution_count": 10,
   "metadata": {
    "execution": {
     "iopub.execute_input": "2022-03-14T20:16:31.584758Z",
     "iopub.status.busy": "2022-03-14T20:16:31.584627Z",
     "iopub.status.idle": "2022-03-14T20:16:31.641615Z",
     "shell.execute_reply": "2022-03-14T20:16:31.640640Z",
     "shell.execute_reply.started": "2022-03-14T20:16:31.584740Z"
    },
    "tags": []
   },
   "outputs": [
    {
     "name": "stdout",
     "output_type": "stream",
     "text": [
      "Group by days Time:  137.69699999988916  (ms)\n",
      "   dow      ID\n",
      "1    0  562811\n",
      "3    1  568747\n",
      "0    2  572240\n",
      "6    3  566206\n",
      "4    4  599764\n"
     ]
    }
   ],
   "source": [
    "@bodo.jit(cache=True)\n",
    "def get_crimes_by_days(crimes):\n",
    "    t1 = time.time()\n",
    "    crimes_days = crimes.groupby('dow', as_index=False)['ID'].count().sort_values(by='dow')\n",
    "    print(\"Group by days Time: \", ((time.time() - t1) * 1000), \" (ms)\")\n",
    "    return crimes_days\n",
    "    \n",
    "crimes_days = get_crimes_by_days(crimes)\n",
    "print(crimes_days.head())"
   ]
  },
  {
   "cell_type": "markdown",
   "metadata": {},
   "source": [
    "### Determining the pattern on monthly basis"
   ]
  },
  {
   "cell_type": "code",
   "execution_count": 11,
   "metadata": {
    "execution": {
     "iopub.execute_input": "2022-03-14T20:16:31.642332Z",
     "iopub.status.busy": "2022-03-14T20:16:31.642147Z",
     "iopub.status.idle": "2022-03-14T20:16:35.307701Z",
     "shell.execute_reply": "2022-03-14T20:16:35.306793Z",
     "shell.execute_reply.started": "2022-03-14T20:16:31.642314Z"
    },
    "tags": []
   },
   "outputs": [
    {
     "name": "stdout",
     "output_type": "stream",
     "text": [
      "Group by days Time:  53.773000000092  (ms)\n",
      "    month      ID\n",
      "3       1  317796\n",
      "1       2  267986\n",
      "9       3  327381\n",
      "6       4  328439\n",
      "10      5  355734\n"
     ]
    }
   ],
   "source": [
    "@bodo.jit(cache=True)\n",
    "def get_crimes_by_months(crimes):\n",
    "    t1 = time.time()\n",
    "    crimes['month'] = crimes[\"Date\"].dt.month\n",
    "    crimes_months = crimes.groupby('month', as_index=False)['ID'].count().sort_values(by='month')\n",
    "    print(\"Group by days Time: \", ((time.time() - t1) * 1000), \" (ms)\")\n",
    "    return crimes_months\n",
    "    \n",
    "crimes_months = get_crimes_by_months(crimes)\n",
    "print(crimes_months.head())"
   ]
  },
  {
   "cell_type": "markdown",
   "metadata": {},
   "source": [
    "### Determining the pattern by crime type"
   ]
  },
  {
   "cell_type": "code",
   "execution_count": 12,
   "metadata": {
    "execution": {
     "iopub.execute_input": "2022-03-14T20:16:35.308299Z",
     "iopub.status.busy": "2022-03-14T20:16:35.308166Z",
     "iopub.status.idle": "2022-03-14T20:16:35.382650Z",
     "shell.execute_reply": "2022-03-14T20:16:35.382044Z",
     "shell.execute_reply.started": "2022-03-14T20:16:35.308281Z"
    },
    "tags": []
   },
   "outputs": [
    {
     "name": "stdout",
     "output_type": "stream",
     "text": [
      "Group by days Time:  333.7589999998727  (ms)\n",
      "      Primary Type      ID\n",
      "7            THEFT  907831\n",
      "8          BATTERY  778164\n",
      "6  CRIMINAL DAMAGE  499426\n",
      "4        NARCOTICS  473790\n",
      "3    OTHER OFFENSE  264200\n"
     ]
    }
   ],
   "source": [
    "@bodo.jit(cache=True)\n",
    "def get_crimes_by_type(crimes):\n",
    "    t1 = time.time()\n",
    "    crimes_type = crimes.groupby('Primary Type', as_index=False)['ID'].count().sort_values(by='ID', ascending=False)\n",
    "    print(\"Group by days Time: \", ((time.time() - t1) * 1000), \" (ms)\")\n",
    "    return crimes_type\n",
    "    \n",
    "crimes_type = get_crimes_by_type(crimes)\n",
    "print(crimes_type.head())"
   ]
  },
  {
   "cell_type": "markdown",
   "metadata": {},
   "source": [
    "### Determining the pattern by location"
   ]
  },
  {
   "cell_type": "code",
   "execution_count": 13,
   "metadata": {
    "execution": {
     "iopub.execute_input": "2022-03-14T20:16:35.383240Z",
     "iopub.status.busy": "2022-03-14T20:16:35.383104Z",
     "iopub.status.idle": "2022-03-14T20:16:35.543891Z",
     "shell.execute_reply": "2022-03-14T20:16:35.543013Z",
     "shell.execute_reply.started": "2022-03-14T20:16:35.383222Z"
    },
    "tags": []
   },
   "outputs": [
    {
     "name": "stdout",
     "output_type": "stream",
     "text": [
      "Group by days Time:  31.35999999994965  (ms)\n",
      "   Location Description       ID\n",
      "0                STREET  1001415\n",
      "34            RESIDENCE   662907\n",
      "89            APARTMENT   458007\n",
      "88             SIDEWALK   443551\n",
      "10                OTHER   145402\n"
     ]
    }
   ],
   "source": [
    "@bodo.jit(cache=True)\n",
    "def get_crimes_by_location(crimes):\n",
    "    t1 = time.time()\n",
    "    crimes_location = crimes.groupby('Location Description', as_index=False)['ID'].count().sort_values(by='ID', ascending=False)\n",
    "    print(\"Group by days Time: \", ((time.time() - t1) * 1000), \" (ms)\")\n",
    "    return crimes_location\n",
    "    \n",
    "crimes_location = get_crimes_by_location(crimes)\n",
    "print(crimes_location.head())"
   ]
  }
 ],
 "metadata": {
  "interpreter": {
   "hash": "16c8ad1c156570dbb9b8c59e261dba05f4270231d6ef51b3fb205099379bfe9f"
  },
  "kernelspec": {
   "display_name": "Python 3 (ipykernel)",
   "language": "python",
   "name": "python3"
  },
  "language_info": {
   "codemirror_mode": {
    "name": "ipython",
    "version": 3
   },
   "file_extension": ".py",
   "mimetype": "text/x-python",
   "name": "python",
   "nbconvert_exporter": "python",
   "pygments_lexer": "ipython3",
   "version": "3.12.7"
  }
 },
 "nbformat": 4,
 "nbformat_minor": 4
}
