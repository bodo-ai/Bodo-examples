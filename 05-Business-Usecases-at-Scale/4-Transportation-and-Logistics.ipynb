{
 "cells": [
  {
   "cell_type": "markdown",
   "id": "05d5168a",
   "metadata": {
    "papermill": {
     "duration": 0.002167,
     "end_time": "2024-11-20T15:28:19.544834",
     "exception": false,
     "start_time": "2024-11-20T15:28:19.542667",
     "status": "completed"
    },
    "tags": []
   },
   "source": [
    "# New York City Taxi Analysis\n",
    "In this example we show some analysis for yellow and green taxi trips originating in New York City in 2019. \n",
    "\n",
    "Orignal example can be found [here](https://github.com/toddwschneider/nyc-taxi-data)\n",
    "\n",
    "The queries are originally in SQL format and here they are implemented using the pandas API. Dataset size is ~8GB."
   ]
  },
  {
   "cell_type": "code",
   "execution_count": 1,
   "id": "97a11381",
   "metadata": {
    "execution": {
     "iopub.execute_input": "2024-11-20T15:28:19.548705Z",
     "iopub.status.busy": "2024-11-20T15:28:19.548555Z",
     "iopub.status.idle": "2024-11-20T15:28:21.162779Z",
     "shell.execute_reply": "2024-11-20T15:28:21.162214Z"
    },
    "papermill": {
     "duration": 1.616835,
     "end_time": "2024-11-20T15:28:21.163548",
     "exception": false,
     "start_time": "2024-11-20T15:28:19.546713",
     "status": "completed"
    },
    "tags": []
   },
   "outputs": [],
   "source": [
    "import bodo\n",
    "import pandas as pd\n",
    "import time"
   ]
  },
  {
   "cell_type": "markdown",
   "id": "3b104e06",
   "metadata": {
    "papermill": {
     "duration": 0.001462,
     "end_time": "2024-11-20T15:28:21.166881",
     "exception": false,
     "start_time": "2024-11-20T15:28:21.165419",
     "status": "completed"
    },
    "tags": []
   },
   "source": [
    "<a id=\"loading_data\"></a>\n",
    "## Loading data\n",
    "\n",
    "In this section, we load the yellow and green taxi trips and weather in central park area in 2019 in pandas DataFrame."
   ]
  },
  {
   "cell_type": "code",
   "execution_count": 2,
   "id": "5f87303c",
   "metadata": {
    "execution": {
     "iopub.execute_input": "2024-11-20T15:28:21.171637Z",
     "iopub.status.busy": "2024-11-20T15:28:21.171012Z",
     "iopub.status.idle": "2024-11-20T15:29:01.758915Z",
     "shell.execute_reply": "2024-11-20T15:29:01.758254Z"
    },
    "papermill": {
     "duration": 40.593602,
     "end_time": "2024-11-20T15:29:01.761978",
     "exception": false,
     "start_time": "2024-11-20T15:28:21.168376",
     "status": "completed"
    },
    "tags": []
   },
   "outputs": [
    {
     "name": "stdout",
     "output_type": "stream",
     "text": [
      "Time:  16.84070279799994\n",
      "   VendorID lpep_pickup_datetime  PULocationID  DOLocationID  trip_distance  \\\n",
      "0         2  2018-12-21 15:17:29           264           264            0.0   \n",
      "1         2  2019-01-01 00:10:16            97            49           0.86   \n",
      "2         2  2019-01-01 00:27:11            49           189           0.66   \n",
      "3         2  2019-01-01 00:46:20           189            17           2.68   \n",
      "4         2  2019-01-01 00:19:06            82           258           4.53   \n",
      "\n",
      "   cab_type_id  \n",
      "0            1  \n",
      "1            1  \n",
      "2            1  \n",
      "3            1  \n",
      "4            1  \n"
     ]
    }
   ],
   "source": [
    "@bodo.jit(spawn=True, cache=True)\n",
    "def get_trips():\n",
    "    start = time.time()\n",
    "    yellow_taxi = pd.read_csv(\n",
    "        \"s3://bodo-example-data/nyc-taxi/yellow_tripdata_2019.csv\",\n",
    "        usecols=[0, 1, 4, 7, 8],\n",
    "        parse_dates=[\"tpep_pickup_datetime\"],\n",
    "    )\n",
    "    \n",
    "    yellow_taxi[\"cab_type_id\"] = 0\n",
    "\n",
    "    green_taxi = pd.read_csv(\n",
    "        \"s3://bodo-example-data/nyc-taxi/green_tripdata_2019.csv\",\n",
    "        usecols=[0, 1, 5, 6, 8],\n",
    "        parse_dates=[\"lpep_pickup_datetime\"],\n",
    "    )\n",
    "    green_taxi[\"cab_type_id\"] = 1\n",
    "\n",
    "    # Rename yellow_taxi column to match green_taxi\n",
    "    yellow_taxi = yellow_taxi.rename(\n",
    "        columns={\"tpep_pickup_datetime\": \"lpep_pickup_datetime\"}, copy=False\n",
    "    )\n",
    "\n",
    "    # concat\n",
    "    trips = pd.concat([green_taxi, yellow_taxi])\n",
    "    end = time.time()\n",
    "    print(\"Time: \", end - start)\n",
    "    return trips\n",
    "\n",
    "trips = get_trips()\n",
    "print(trips.head())"
   ]
  },
  {
   "cell_type": "code",
   "execution_count": 3,
   "id": "89cb8145",
   "metadata": {
    "execution": {
     "iopub.execute_input": "2024-11-20T15:29:01.769015Z",
     "iopub.status.busy": "2024-11-20T15:29:01.768371Z",
     "iopub.status.idle": "2024-11-20T15:29:05.081518Z",
     "shell.execute_reply": "2024-11-20T15:29:05.080997Z"
    },
    "papermill": {
     "duration": 3.317385,
     "end_time": "2024-11-20T15:29:05.082425",
     "exception": false,
     "start_time": "2024-11-20T15:29:01.765040",
     "status": "completed"
    },
    "tags": []
   },
   "outputs": [
    {
     "name": "stdout",
     "output_type": "stream",
     "text": [
      "Time:  0.1697279620000245\n",
      "    station_id                 station_name        date  average_wind_speed  \\\n",
      "0  USW00094728  NY CITY CENTRAL PARK, NY US  2009-01-01               11.18   \n",
      "1  USW00094728  NY CITY CENTRAL PARK, NY US  2009-01-02                6.26   \n",
      "2  USW00094728  NY CITY CENTRAL PARK, NY US  2009-01-03               10.07   \n",
      "3  USW00094728  NY CITY CENTRAL PARK, NY US  2009-01-04                7.61   \n",
      "4  USW00094728  NY CITY CENTRAL PARK, NY US  2009-01-05                6.93   \n",
      "\n",
      "   precipitation  snowfall  snow_depth  max_temperature  min_temperature  \n",
      "0            0.0       0.0         0.0               26               15  \n",
      "1            0.0       0.0         0.0               34               23  \n",
      "2            0.0       0.0         0.0               38               29  \n",
      "3            0.0       0.0         0.0               42               25  \n",
      "4            0.0       0.0         0.0               43               38  \n"
     ]
    }
   ],
   "source": [
    "@bodo.jit(spawn=True, cache=True)\n",
    "def get_cp_weather():\n",
    "    start = time.time()\n",
    "    central_park_weather_observations = pd.read_csv(\n",
    "        \"s3://bodo-example-data/nyc-taxi/central_park_weather.csv\", \n",
    "        parse_dates=[\"date\"]\n",
    "    )\n",
    "    central_park_weather_observations[\"date\"] = central_park_weather_observations[\n",
    "        \"date\"\n",
    "    ].dt.date\n",
    "    end = time.time()\n",
    "    print(\"Time: \", end - start)\n",
    "    return central_park_weather_observations\n",
    "\n",
    "central_park_weather_observations = get_cp_weather()\n",
    "print(central_park_weather_observations.head())"
   ]
  },
  {
   "cell_type": "markdown",
   "id": "62d5f528",
   "metadata": {
    "papermill": {
     "duration": 0.002565,
     "end_time": "2024-11-20T15:29:05.088256",
     "exception": false,
     "start_time": "2024-11-20T15:29:05.085691",
     "status": "completed"
    },
    "tags": []
   },
   "source": [
    "## Query Definitions\n",
    "\n",
    "This section includes some of the queries using Python (Pandas)"
   ]
  },
  {
   "cell_type": "markdown",
   "id": "00986781",
   "metadata": {
    "papermill": {
     "duration": 0.002449,
     "end_time": "2024-11-20T15:29:05.093280",
     "exception": false,
     "start_time": "2024-11-20T15:29:05.090831",
     "status": "completed"
    },
    "tags": []
   },
   "source": [
    "### Q1: Display pickups by geography\n",
    "This query reports the number of trips for each pickup location."
   ]
  },
  {
   "cell_type": "code",
   "execution_count": 4,
   "id": "81e74f83",
   "metadata": {
    "execution": {
     "iopub.execute_input": "2024-11-20T15:29:05.099425Z",
     "iopub.status.busy": "2024-11-20T15:29:05.099088Z",
     "iopub.status.idle": "2024-11-20T15:29:11.268794Z",
     "shell.execute_reply": "2024-11-20T15:29:11.268158Z"
    },
    "papermill": {
     "duration": 6.173889,
     "end_time": "2024-11-20T15:29:11.269706",
     "exception": false,
     "start_time": "2024-11-20T15:29:05.095817",
     "status": "completed"
    },
    "tags": []
   },
   "outputs": [
    {
     "name": "stdout",
     "output_type": "stream",
     "text": [
      "Time:  0.44367357700002685\n",
      "        cab_type_id  pickup_location_id        date  trips\n",
      "154367            0                   1  2019-01-01     22\n",
      "130275            0                   1  2019-01-02     26\n",
      "106377            0                   1  2019-01-03     11\n",
      "17150             0                   1  2019-01-04     17\n",
      "116471            0                   1  2019-01-05     22\n"
     ]
    }
   ],
   "source": [
    "@bodo.jit(spawn=True, cache=True)\n",
    "def get_daily_pickups(trips):\n",
    "    start = time.time() \n",
    "    daily_pickups_taxi = trips.loc[:, [\"cab_type_id\", \"PULocationID\", \"lpep_pickup_datetime\"]]\n",
    "    daily_pickups_taxi[\"pickup_date\"] = daily_pickups_taxi[\"lpep_pickup_datetime\"].dt.date\n",
    "    daily_pickups_taxi = daily_pickups_taxi.groupby(                          \n",
    "        [\"cab_type_id\", \"PULocationID\", \"pickup_date\"], as_index=False\n",
    "    )[\"lpep_pickup_datetime\"].count()                            \n",
    "    daily_pickups_taxi = daily_pickups_taxi.rename(              \n",
    "        columns={\n",
    "            \"PULocationID\": \"pickup_location_id\",\n",
    "            \"pickup_date\": \"date\",\n",
    "            \"lpep_pickup_datetime\": \"trips\",\n",
    "        },\n",
    "        copy=False,\n",
    "    )\n",
    "    daily_pickups_taxi = daily_pickups_taxi.sort_values(\n",
    "        by=[\"cab_type_id\", \"pickup_location_id\", \"date\", \"trips\"],\n",
    "        ascending=[True, True, True, False]\n",
    "    )\n",
    "\n",
    "    end = time.time()\n",
    "    print(\"Time: \", end - start)\n",
    "    return daily_pickups_taxi\n",
    "\n",
    "daily_pickups = get_daily_pickups(trips)\n",
    "print(daily_pickups.head())"
   ]
  },
  {
   "cell_type": "markdown",
   "id": "b1759dad",
   "metadata": {
    "papermill": {
     "duration": 0.002603,
     "end_time": "2024-11-20T15:29:11.275462",
     "exception": false,
     "start_time": "2024-11-20T15:29:11.272859",
     "status": "completed"
    },
    "tags": []
   },
   "source": [
    "### Q2: JFK Hourly Pickups\n",
    "This query reports the number of hourly pickups at JFK airport for each car type."
   ]
  },
  {
   "cell_type": "code",
   "execution_count": 5,
   "id": "ec7e656e",
   "metadata": {
    "execution": {
     "iopub.execute_input": "2024-11-20T15:29:11.281594Z",
     "iopub.status.busy": "2024-11-20T15:29:11.281306Z",
     "iopub.status.idle": "2024-11-20T15:29:17.209795Z",
     "shell.execute_reply": "2024-11-20T15:29:17.209162Z"
    },
    "papermill": {
     "duration": 5.932689,
     "end_time": "2024-11-20T15:29:17.210754",
     "exception": false,
     "start_time": "2024-11-20T15:29:11.278065",
     "status": "completed"
    },
    "tags": []
   },
   "outputs": [
    {
     "name": "stdout",
     "output_type": "stream",
     "text": [
      "Time:  0.3872183109999696\n",
      "    cab_type_id  pickup_hour  pickup_location_id   trips\n",
      "17            0            0                 132  116751\n",
      "20            0            1                 132   61826\n",
      "13            0            2                 132   22066\n",
      "24            0            3                 132   11652\n",
      "5             0            4                 132   16670\n"
     ]
    }
   ],
   "source": [
    "@bodo.jit(spawn=True, cache=True)\n",
    "def get_jfk_hourly_pickups(trips):\n",
    "    start = time.time()  \n",
    "    jfk_hourly = trips.loc[:, [\"cab_type_id\", \"PULocationID\", \"lpep_pickup_datetime\"]]    \n",
    "    jfk_hourly[\"pickup_hour\"] = jfk_hourly[\"lpep_pickup_datetime\"].dt.hour\n",
    "    jfk_hourly = jfk_hourly.loc[jfk_hourly[\"PULocationID\"] == 132]\n",
    "    jfk_hourly = jfk_hourly.groupby(\n",
    "        [\"cab_type_id\", \"pickup_hour\", \"PULocationID\"], as_index=False\n",
    "    )[\"lpep_pickup_datetime\"].count()\n",
    "    jfk_hourly = jfk_hourly.rename(\n",
    "        columns={\n",
    "            \"lpep_pickup_datetime\": \"trips\",\n",
    "            \"PULocationID\": \"pickup_location_id\",\n",
    "        },\n",
    "        copy=False,\n",
    "    )    \n",
    "    jfk_hourly = jfk_hourly.sort_values(\n",
    "        by=[\"cab_type_id\", \"pickup_hour\", \"pickup_location_id\", \"trips\"],\n",
    "        ascending=[True, True, True, False]\n",
    "    )\n",
    "\n",
    "    end = time.time()\n",
    "    print(\"Time: \", end - start)\n",
    "    return jfk_hourly\n",
    "\n",
    "jfk_hourly = get_jfk_hourly_pickups(trips)\n",
    "print(jfk_hourly.head())    "
   ]
  },
  {
   "cell_type": "markdown",
   "id": "aca24951",
   "metadata": {
    "papermill": {
     "duration": 0.00273,
     "end_time": "2024-11-20T15:29:17.216787",
     "exception": false,
     "start_time": "2024-11-20T15:29:17.214057",
     "status": "completed"
    },
    "tags": []
   },
   "source": [
    "### Q3: Weekday trips\n",
    "This query reports how many trips are done during weekdays."
   ]
  },
  {
   "cell_type": "code",
   "execution_count": 6,
   "id": "a0753e7a",
   "metadata": {
    "execution": {
     "iopub.execute_input": "2024-11-20T15:29:17.223380Z",
     "iopub.status.busy": "2024-11-20T15:29:17.223103Z",
     "iopub.status.idle": "2024-11-20T15:29:27.047595Z",
     "shell.execute_reply": "2024-11-20T15:29:27.046937Z"
    },
    "papermill": {
     "duration": 9.828621,
     "end_time": "2024-11-20T15:29:27.048439",
     "exception": false,
     "start_time": "2024-11-20T15:29:17.219818",
     "status": "completed"
    },
    "tags": []
   },
   "outputs": [
    {
     "name": "stdout",
     "output_type": "stream",
     "text": [
      "Time:  0.4398949880001055\n",
      "       pickup_location_id  dropoff_location_id  trips\n",
      "28577                   1                    1   5003\n",
      "21536                   1                    4      1\n",
      "5639                    1                    6      1\n",
      "18030                   1                   20      1\n",
      "28315                   1                   21      1\n"
     ]
    }
   ],
   "source": [
    "@bodo.jit(spawn=True, cache=True)\n",
    "def get_weekday_trips(trips):\n",
    "    start = time.time()\n",
    "    trips_weekdays = trips.loc[:, [\"cab_type_id\", \"lpep_pickup_datetime\", \"PULocationID\", \"DOLocationID\" ]]    \n",
    "    trips_weekdays[\"pickup_dow\"] = trips_weekdays[\"lpep_pickup_datetime\"].dt.dayofweek\n",
    "    trips_weekdays = trips_weekdays[\n",
    "        (trips_weekdays[\"cab_type_id\"].isin([0, 1]))\n",
    "        & (trips_weekdays[\"lpep_pickup_datetime\"] >= pd.to_datetime(\"2018-07-01\"))\n",
    "        & (trips_weekdays[\"lpep_pickup_datetime\"] < pd.to_datetime(\"2020-07-01\"))\n",
    "        & (trips_weekdays[\"pickup_dow\"].isin([1, 2, 3, 4, 5]))\n",
    "    ]\n",
    "    trips_weekdays = trips_weekdays.groupby(\n",
    "        [\"PULocationID\", \"DOLocationID\"], as_index=False\n",
    "    ).count()\n",
    "    trips_weekdays = trips_weekdays.loc[:,\n",
    "        [\"PULocationID\", \"DOLocationID\", \"lpep_pickup_datetime\"]\n",
    "    ]\n",
    "    trips_weekdays = trips_weekdays.rename(\n",
    "        columns={\n",
    "            \"PULocationID\": \"pickup_location_id\",\n",
    "            \"DOLocationID\": \"dropoff_location_id\",\n",
    "            \"lpep_pickup_datetime\": \"trips\"\n",
    "        },\n",
    "        copy=False,        \n",
    "    )\n",
    "    trips_weekdays = trips_weekdays.sort_values(by=[\"pickup_location_id\", \"dropoff_location_id\", \"trips\"],\n",
    "                                                ascending=[True, True, False])\n",
    "    end = time.time()\n",
    "    print(\"Time: \", end - start)\n",
    "    return trips_weekdays\n",
    "\n",
    "wd_trips = get_weekday_trips(trips)\n",
    "print(wd_trips.head())"
   ]
  },
  {
   "cell_type": "markdown",
   "id": "57549b31",
   "metadata": {
    "papermill": {
     "duration": 0.001772,
     "end_time": "2024-11-20T15:29:27.052273",
     "exception": false,
     "start_time": "2024-11-20T15:29:27.050501",
     "status": "completed"
    },
    "tags": []
   },
   "source": [
    "### Q4: Monthly Trips and Weather in Central Park\n",
    "This query reports monthly travel times; the average distance, number of trips over and its corresponding weather.\n"
   ]
  },
  {
   "cell_type": "code",
   "execution_count": 7,
   "id": "9fa7c8e7",
   "metadata": {
    "execution": {
     "iopub.execute_input": "2024-11-20T15:29:27.056528Z",
     "iopub.status.busy": "2024-11-20T15:29:27.056235Z",
     "iopub.status.idle": "2024-11-20T15:29:43.174324Z",
     "shell.execute_reply": "2024-11-20T15:29:43.173656Z"
    },
    "papermill": {
     "duration": 16.121312,
     "end_time": "2024-11-20T15:29:43.175279",
     "exception": false,
     "start_time": "2024-11-20T15:29:27.053967",
     "status": "completed"
    },
    "tags": []
   },
   "outputs": [
    {
     "name": "stdout",
     "output_type": "stream",
     "text": [
      "Time:  1.5221514489999208\n",
      "         PULocationID  DOLocationID  month  weekday  date_with_precipitation  \\\n",
      "1787189             1             1      1        1                     0.17   \n",
      "1368222             1             1      1        1                     0.17   \n",
      "1560639             1             1      1        1                     0.23   \n",
      "421163              1             1      1        1                     0.23   \n",
      "914969              1             1      1        1                     0.23   \n",
      "\n",
      "         time_bucket  trips  avg_distance  \n",
      "1787189            1      7      2.671429  \n",
      "1368222            2      1           0.0  \n",
      "1560639            0      1          34.0  \n",
      "421163             1      8       0.18875  \n",
      "914969             2      3           4.6  \n"
     ]
    }
   ],
   "source": [
    "@bodo.jit(spawn=True, cache=True)\n",
    "def get_monthly_travels_weather(trips, central_park_weather_observations):\n",
    "    start = time.time()\n",
    "    trips = trips.loc[:, [\"VendorID\", \"lpep_pickup_datetime\", \"PULocationID\", \"DOLocationID\", \"trip_distance\" ]]    \n",
    "    trips[\"date\"] = trips[\"lpep_pickup_datetime\"].dt.date\n",
    "    trips[\"month\"] = trips[\"lpep_pickup_datetime\"].dt.month\n",
    "    trips[\"hour\"] = trips[\"lpep_pickup_datetime\"].dt.hour\n",
    "    trips[\"weekday\"] = trips[\"lpep_pickup_datetime\"].dt.dayofweek\n",
    "    monthly_trips_weather = trips.merge(\n",
    "        central_park_weather_observations, on=\"date\", how=\"inner\"\n",
    "    )\n",
    "    monthly_trips_weather = monthly_trips_weather[\n",
    "        (monthly_trips_weather[\"weekday\"].isin([1, 2, 3, 4, 5]))\n",
    "        & (monthly_trips_weather[\"precipitation\"] > 0.1)\n",
    "    ]\n",
    "    #0: morning, 1:midday, 2:afternoon, 3:evening, 4:other\n",
    "    monthly_trips_weather[\"time_bucket\"] = monthly_trips_weather.hour.replace({8: 0, 9:0, 10:0, 11:1, 12:1, 13:1, 14:1, 15:1, 16:2, 17:2, 18:2, 18:2, 19:3, 20:3, 21:3, 22:4, 23:4, 0:4, 1:4, 2:4, 3:4, 4:4, 5:4, 6:4, 7:4 })\n",
    "    monthly_trips_weather = monthly_trips_weather.groupby(\n",
    "        [\n",
    "            \"PULocationID\",\n",
    "            \"DOLocationID\",\n",
    "            \"month\",\n",
    "            \"weekday\",\n",
    "            \"precipitation\",\n",
    "            \"time_bucket\",\n",
    "        ],\n",
    "        as_index=False\n",
    "    ).agg({\"VendorID\": \"count\", \"trip_distance\": \"mean\"})\n",
    "    monthly_trips_weather = monthly_trips_weather.sort_values(\n",
    "        by=[\n",
    "            \"PULocationID\",\n",
    "            \"DOLocationID\",\n",
    "            \"month\",\n",
    "            \"weekday\",\n",
    "            \"precipitation\",\n",
    "            \"time_bucket\",\n",
    "            \"VendorID\",\n",
    "        ],\n",
    "        ascending=[True, True, True, True, True, True, False]\n",
    "    )\n",
    "    monthly_trips_weather = monthly_trips_weather.rename(\n",
    "        columns={\n",
    "            \"VendorID\": \"trips\",\n",
    "            \"trip_distance\": \"avg_distance\",\n",
    "            \"precipitation\": \"date_with_precipitation\",\n",
    "        },\n",
    "        copy=False\n",
    "    )\n",
    "    end = time.time()\n",
    "    print(\"Time: \", end - start)\n",
    "    return monthly_trips_weather\n",
    "\n",
    "monthly_trips_weather = get_monthly_travels_weather(trips, central_park_weather_observations)\n",
    "print(monthly_trips_weather.head())"
   ]
  }
 ],
 "metadata": {
  "interpreter": {
   "hash": "16c8ad1c156570dbb9b8c59e261dba05f4270231d6ef51b3fb205099379bfe9f"
  },
  "kernelspec": {
   "display_name": "Python 3 (ipykernel)",
   "language": "python",
   "name": "python3"
  },
  "language_info": {
   "codemirror_mode": {
    "name": "ipython",
    "version": 3
   },
   "file_extension": ".py",
   "mimetype": "text/x-python",
   "name": "python",
   "nbconvert_exporter": "python",
   "pygments_lexer": "ipython3",
   "version": "3.12.7"
  },
  "papermill": {
   "default_parameters": {},
   "duration": 84.645334,
   "end_time": "2024-11-20T15:29:43.294161",
   "environment_variables": {},
   "exception": null,
   "input_path": "4-Transportation-and-Logistics.ipynb",
   "output_path": "4-Transportation-and-Logistics.ipynb",
   "parameters": {},
   "start_time": "2024-11-20T15:28:18.648827",
   "version": "2.6.0"
  }
 },
 "nbformat": 4,
 "nbformat_minor": 5
}