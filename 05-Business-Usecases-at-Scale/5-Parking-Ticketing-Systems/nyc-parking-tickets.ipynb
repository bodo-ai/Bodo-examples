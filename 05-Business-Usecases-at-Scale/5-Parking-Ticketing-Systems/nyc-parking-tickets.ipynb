{
 "cells": [
  {
   "cell_type": "markdown",
   "metadata": {},
   "source": [
    "# NYC Parking Violations\n",
    "This example demonstrates ETL operations for transforming New York City parking summons data to create maps. \n",
    "\n",
    "Original example can be found [here](https://github.com/JBlumstein/NYCParking/blob/master/NYC_Parking_Violations_Mapping_Example.ipynb). The 2016 and 2017 dataset [here](https://www.kaggle.com/new-york-city/nyc-parking-tickets) is used which is ~4GB."
   ]
  },
  {
   "cell_type": "code",
   "execution_count": 2,
   "metadata": {
    "execution": {
     "iopub.execute_input": "2022-03-15T18:29:48.728355Z",
     "iopub.status.busy": "2022-03-15T18:29:48.728150Z",
     "iopub.status.idle": "2022-03-15T18:29:49.657928Z",
     "shell.execute_reply": "2022-03-15T18:29:49.657337Z",
     "shell.execute_reply.started": "2022-03-15T18:29:48.728332Z"
    },
    "tags": []
   },
   "outputs": [],
   "source": [
    "import numpy as np\n",
    "import pandas as pd\n",
    "import time\n",
    "import bodo"
   ]
  },
  {
   "cell_type": "markdown",
   "metadata": {},
   "source": [
    "## Data Loading\n",
    "In this section parking tickets data is loaded from S3 bucket and aggregated by day, violation type, and police precinct and placed in a dataframe. \n",
    "\n",
    "Each dataframe is added to a list of dataframes, and then the dataframes are all appended into a single dataframe named `main_df`.\n",
    "\n",
    "In addition, violcation codes, and precincts information are loaded as well."
   ]
  },
  {
   "cell_type": "code",
   "execution_count": 3,
   "metadata": {
    "execution": {
     "iopub.execute_input": "2022-03-15T18:29:49.658616Z",
     "iopub.status.busy": "2022-03-15T18:29:49.658431Z",
     "iopub.status.idle": "2022-03-15T18:31:06.674278Z",
     "shell.execute_reply": "2022-03-15T18:31:06.673585Z",
     "shell.execute_reply.started": "2022-03-15T18:29:49.658596Z"
    },
    "tags": []
   },
   "outputs": [
    {
     "name": "stdout",
     "output_type": "stream",
     "text": [
      "Reading Time:  282.952367\n"
     ]
    },
    {
     "data": {
      "text/html": [
       "<div>\n",
       "<style scoped>\n",
       "    .dataframe tbody tr th:only-of-type {\n",
       "        vertical-align: middle;\n",
       "    }\n",
       "\n",
       "    .dataframe tbody tr th {\n",
       "        vertical-align: top;\n",
       "    }\n",
       "\n",
       "    .dataframe thead th {\n",
       "        text-align: right;\n",
       "    }\n",
       "</style>\n",
       "<table border=\"1\" class=\"dataframe\">\n",
       "  <thead>\n",
       "    <tr style=\"text-align: right;\">\n",
       "      <th></th>\n",
       "      <th>Issue Date</th>\n",
       "      <th>Violation County</th>\n",
       "      <th>Violation Precinct</th>\n",
       "      <th>Violation Code</th>\n",
       "      <th>Summons Number</th>\n",
       "    </tr>\n",
       "  </thead>\n",
       "  <tbody>\n",
       "    <tr>\n",
       "      <th>0</th>\n",
       "      <td>2015-07-09</td>\n",
       "      <td>K</td>\n",
       "      <td>88</td>\n",
       "      <td>71</td>\n",
       "      <td>12</td>\n",
       "    </tr>\n",
       "    <tr>\n",
       "      <th>1</th>\n",
       "      <td>2015-07-09</td>\n",
       "      <td>K</td>\n",
       "      <td>94</td>\n",
       "      <td>41</td>\n",
       "      <td>3</td>\n",
       "    </tr>\n",
       "    <tr>\n",
       "      <th>2</th>\n",
       "      <td>2015-07-09</td>\n",
       "      <td>K</td>\n",
       "      <td>88</td>\n",
       "      <td>20</td>\n",
       "      <td>15</td>\n",
       "    </tr>\n",
       "    <tr>\n",
       "      <th>3</th>\n",
       "      <td>2015-06-18</td>\n",
       "      <td>Q</td>\n",
       "      <td>107</td>\n",
       "      <td>21</td>\n",
       "      <td>7</td>\n",
       "    </tr>\n",
       "    <tr>\n",
       "      <th>4</th>\n",
       "      <td>2015-06-23</td>\n",
       "      <td>K</td>\n",
       "      <td>75</td>\n",
       "      <td>80</td>\n",
       "      <td>2</td>\n",
       "    </tr>\n",
       "  </tbody>\n",
       "</table>\n",
       "</div>"
      ],
      "text/plain": [
       "  Issue Date Violation County  Violation Precinct  Violation Code  \\\n",
       "0 2015-07-09                K                  88              71   \n",
       "1 2015-07-09                K                  94              41   \n",
       "2 2015-07-09                K                  88              20   \n",
       "3 2015-06-18                Q                 107              21   \n",
       "4 2015-06-23                K                  75              80   \n",
       "\n",
       "   Summons Number  \n",
       "0              12  \n",
       "1               3  \n",
       "2              15  \n",
       "3               7  \n",
       "4               2  "
      ]
     },
     "metadata": {},
     "output_type": "display_data"
    }
   ],
   "source": [
    "@bodo.jit(cache=True)\n",
    "def load_parking_tickets():\n",
    "    start = time.time()\n",
    "    year_2016_df = pd.read_csv('s3://bodo-example-data/nyc-parking-tickets/Parking_Violations_Issued_-_Fiscal_Year_2016.csv', parse_dates=[\"Issue Date\"])\n",
    "    year_2016_df = year_2016_df.groupby(['Issue Date','Violation County','Violation Precinct','Violation Code'], as_index=False)['Summons Number'].count()        \n",
    "\n",
    "    year_2017_df = pd.read_csv('s3://bodo-example-data/nyc-parking-tickets/Parking_Violations_Issued_-_Fiscal_Year_2017.csv', parse_dates=[\"Issue Date\"])        \n",
    "    year_2017_df = year_2017_df.groupby(['Issue Date','Violation County','Violation Precinct','Violation Code'], as_index=False)['Summons Number'].count()    \n",
    "     \n",
    "    # concatenate all dataframes into one dataframe\n",
    "    many_year_df = pd.concat([year_2016_df, year_2017_df])\n",
    "    end = time.time()\n",
    "    print(\"Reading Time: \", end - start)\n",
    "    return many_year_df\n",
    "\n",
    "main_df = load_parking_tickets()\n",
    "display(main_df.head())"
   ]
  },
  {
   "cell_type": "code",
   "execution_count": 4,
   "metadata": {
    "execution": {
     "iopub.execute_input": "2022-03-15T18:31:06.675522Z",
     "iopub.status.busy": "2022-03-15T18:31:06.675156Z",
     "iopub.status.idle": "2022-03-15T18:31:10.593761Z",
     "shell.execute_reply": "2022-03-15T18:31:10.593195Z",
     "shell.execute_reply.started": "2022-03-15T18:31:06.675503Z"
    },
    "tags": []
   },
   "outputs": [
    {
     "name": "stdout",
     "output_type": "stream",
     "text": [
      "Violation and precincts load Time:  0.008648999999991247\n"
     ]
    }
   ],
   "source": [
    "@bodo.jit(distributed=False)\n",
    "def load_violation_precincts_codes():\n",
    "    start = time.time()\n",
    "    violation_codes = pd.read_csv(\"./DOF_Parking_Violation_Codes.csv\")\n",
    "    violation_codes.columns = ['Violation Code','Definition','manhattan_96_and_below','all_other_areas']\n",
    "    nyc_precincts_df = pd.read_csv(\"./nyc_precincts.csv\", index_col='index')\n",
    "    end = time.time()\n",
    "    if bodo.get_rank() == 0:\n",
    "        print(\"Violation and precincts load Time: \", end - start)\n",
    "    return violation_codes, nyc_precincts_df\n",
    "\n",
    "violation_codes, nyc_precincts_df = load_violation_precincts_codes()"
   ]
  },
  {
   "cell_type": "markdown",
   "metadata": {},
   "source": [
    "## Data Cleaning\n",
    "\n",
    "1. Remove summons with undefined violations (violation code 36).\n",
    "2. Delete entries that have dates not within our dataset dates."
   ]
  },
  {
   "cell_type": "code",
   "execution_count": 5,
   "metadata": {
    "execution": {
     "iopub.execute_input": "2022-03-15T18:31:10.594374Z",
     "iopub.status.busy": "2022-03-15T18:31:10.594231Z",
     "iopub.status.idle": "2022-03-15T18:31:10.710121Z",
     "shell.execute_reply": "2022-03-15T18:31:10.709179Z",
     "shell.execute_reply.started": "2022-03-15T18:31:10.594356Z"
    },
    "tags": []
   },
   "outputs": [
    {
     "name": "stdout",
     "output_type": "stream",
     "text": [
      "Eliminate undefined violations time:  0.05755099999998947\n",
      "       Issue Date Violation County  Violation Precinct  Violation Code  \\\n",
      "86547  2015-11-27                Q                 114              21   \n",
      "356268 2016-06-19               BK                   0               7   \n",
      "537328 2017-05-19               QN                   0               7   \n",
      "475886 2016-06-19               QN                   0               7   \n",
      "117524 2016-06-18               QN                   0               7   \n",
      "\n",
      "        Summons Number  \n",
      "86547             1165  \n",
      "356268             910  \n",
      "537328             907  \n",
      "475886             891  \n",
      "117524             889  \n"
     ]
    }
   ],
   "source": [
    "@bodo.jit(cache=True)\n",
    "def elim_code_36(main_df):\n",
    "    start = time.time()\n",
    "    '''function to take out all violations with code 36 (other)'''    \n",
    "    main_df = main_df[main_df['Violation Code']!=36].sort_values('Summons Number',ascending=False)\n",
    "    end = time.time()\n",
    "    print(\"Eliminate undefined violations time: \", end - start)\n",
    "    return main_df\n",
    "\n",
    "main_df = elim_code_36(main_df)\n",
    "print(main_df.head())"
   ]
  },
  {
   "cell_type": "code",
   "execution_count": 6,
   "metadata": {
    "execution": {
     "iopub.execute_input": "2022-03-15T18:31:10.711007Z",
     "iopub.status.busy": "2022-03-15T18:31:10.710803Z",
     "iopub.status.idle": "2022-03-15T18:31:14.359516Z",
     "shell.execute_reply": "2022-03-15T18:31:14.358861Z",
     "shell.execute_reply.started": "2022-03-15T18:31:10.710984Z"
    },
    "tags": []
   },
   "outputs": [
    {
     "name": "stderr",
     "output_type": "stream",
     "text": [
      "/Users/scottroutledge/Bodo/BodoSQL/bodosql/py4j_gateway.py:47: UserWarning: $JAVA_HOME is currently unset. This occurs when OpenJDK is not installed in your conda environment or when your environment has recently changed by not reactivates. BodoSQL will default to using you system's Java.It is recommended that you use OpenJDK v11 from Conda with BodoSQL. To do so, first run\n",
      "    conda install openjdk=11 -c conda-forge\n",
      "and then reactivate your environment via\n",
      "    conda deactivate && conda activate /Users/scottroutledge/miniforge3\n",
      "  warnings.warn(\n"
     ]
    },
    {
     "name": "stdout",
     "output_type": "stream",
     "text": [
      "Remove outliers time:  0.011997000000008029\n"
     ]
    },
    {
     "data": {
      "text/html": [
       "<div>\n",
       "<style scoped>\n",
       "    .dataframe tbody tr th:only-of-type {\n",
       "        vertical-align: middle;\n",
       "    }\n",
       "\n",
       "    .dataframe tbody tr th {\n",
       "        vertical-align: top;\n",
       "    }\n",
       "\n",
       "    .dataframe thead th {\n",
       "        text-align: right;\n",
       "    }\n",
       "</style>\n",
       "<table border=\"1\" class=\"dataframe\">\n",
       "  <thead>\n",
       "    <tr style=\"text-align: right;\">\n",
       "      <th></th>\n",
       "      <th>Issue Date</th>\n",
       "      <th>Violation County</th>\n",
       "      <th>Violation Precinct</th>\n",
       "      <th>Violation Code</th>\n",
       "      <th>Summons Number</th>\n",
       "    </tr>\n",
       "  </thead>\n",
       "  <tbody>\n",
       "    <tr>\n",
       "      <th>356268</th>\n",
       "      <td>2016-06-19</td>\n",
       "      <td>BK</td>\n",
       "      <td>0</td>\n",
       "      <td>7</td>\n",
       "      <td>910</td>\n",
       "    </tr>\n",
       "    <tr>\n",
       "      <th>537328</th>\n",
       "      <td>2017-05-19</td>\n",
       "      <td>QN</td>\n",
       "      <td>0</td>\n",
       "      <td>7</td>\n",
       "      <td>907</td>\n",
       "    </tr>\n",
       "    <tr>\n",
       "      <th>475886</th>\n",
       "      <td>2016-06-19</td>\n",
       "      <td>QN</td>\n",
       "      <td>0</td>\n",
       "      <td>7</td>\n",
       "      <td>891</td>\n",
       "    </tr>\n",
       "    <tr>\n",
       "      <th>117524</th>\n",
       "      <td>2016-06-18</td>\n",
       "      <td>QN</td>\n",
       "      <td>0</td>\n",
       "      <td>7</td>\n",
       "      <td>889</td>\n",
       "    </tr>\n",
       "    <tr>\n",
       "      <th>416743</th>\n",
       "      <td>2016-06-26</td>\n",
       "      <td>BK</td>\n",
       "      <td>0</td>\n",
       "      <td>7</td>\n",
       "      <td>888</td>\n",
       "    </tr>\n",
       "  </tbody>\n",
       "</table>\n",
       "</div>"
      ],
      "text/plain": [
       "       Issue Date Violation County  Violation Precinct  Violation Code  \\\n",
       "356268 2016-06-19               BK                   0               7   \n",
       "537328 2017-05-19               QN                   0               7   \n",
       "475886 2016-06-19               QN                   0               7   \n",
       "117524 2016-06-18               QN                   0               7   \n",
       "416743 2016-06-26               BK                   0               7   \n",
       "\n",
       "        Summons Number  \n",
       "356268             910  \n",
       "537328             907  \n",
       "475886             891  \n",
       "117524             889  \n",
       "416743             888  "
      ]
     },
     "metadata": {},
     "output_type": "display_data"
    }
   ],
   "source": [
    "@bodo.jit(cache=True)\n",
    "def remove_outliers(main_df):\n",
    "    start = time.time()\n",
    "    main_df = main_df[(main_df['Issue Date'] >= '2016-01-01') & (main_df['Issue Date'] <= '2017-12-31')]\n",
    "    end = time.time()\n",
    "    print(\"Remove outliers time: \", (end-start)) \n",
    "    return main_df\n",
    "\n",
    "main_df = remove_outliers(main_df)\n",
    "display(main_df.head())"
   ]
  },
  {
   "cell_type": "markdown",
   "metadata": {},
   "source": [
    "## Collect More Information\n",
    "Data on each violation type, like ticket cost and violation descriptions, are added to the dataset by joining our main_df dataset with a violation type level dataset"
   ]
  },
  {
   "cell_type": "code",
   "execution_count": 7,
   "metadata": {
    "execution": {
     "iopub.execute_input": "2022-03-15T18:31:14.360117Z",
     "iopub.status.busy": "2022-03-15T18:31:14.359984Z",
     "iopub.status.idle": "2022-03-15T18:31:16.782329Z",
     "shell.execute_reply": "2022-03-15T18:31:16.781530Z",
     "shell.execute_reply.started": "2022-03-15T18:31:14.360100Z"
    },
    "tags": []
   },
   "outputs": [
    {
     "name": "stdout",
     "output_type": "stream",
     "text": [
      "Merge time:  0.5804019999999923\n",
      "(872465, 8)\n"
     ]
    },
    {
     "data": {
      "text/html": [
       "<div>\n",
       "<style scoped>\n",
       "    .dataframe tbody tr th:only-of-type {\n",
       "        vertical-align: middle;\n",
       "    }\n",
       "\n",
       "    .dataframe tbody tr th {\n",
       "        vertical-align: top;\n",
       "    }\n",
       "\n",
       "    .dataframe thead th {\n",
       "        text-align: right;\n",
       "    }\n",
       "</style>\n",
       "<table border=\"1\" class=\"dataframe\">\n",
       "  <thead>\n",
       "    <tr style=\"text-align: right;\">\n",
       "      <th></th>\n",
       "      <th>Issue Date</th>\n",
       "      <th>Violation County</th>\n",
       "      <th>Violation Precinct</th>\n",
       "      <th>Violation Code</th>\n",
       "      <th>Summons Number</th>\n",
       "      <th>Definition</th>\n",
       "      <th>manhattan_96_and_below</th>\n",
       "      <th>all_other_areas</th>\n",
       "    </tr>\n",
       "  </thead>\n",
       "  <tbody>\n",
       "    <tr>\n",
       "      <th>0</th>\n",
       "      <td>2016-06-19</td>\n",
       "      <td>BK</td>\n",
       "      <td>0</td>\n",
       "      <td>7</td>\n",
       "      <td>910</td>\n",
       "      <td>Vehicles photographed going through a red ligh...</td>\n",
       "      <td>50</td>\n",
       "      <td>50</td>\n",
       "    </tr>\n",
       "    <tr>\n",
       "      <th>1</th>\n",
       "      <td>2017-05-19</td>\n",
       "      <td>QN</td>\n",
       "      <td>0</td>\n",
       "      <td>7</td>\n",
       "      <td>907</td>\n",
       "      <td>Vehicles photographed going through a red ligh...</td>\n",
       "      <td>50</td>\n",
       "      <td>50</td>\n",
       "    </tr>\n",
       "    <tr>\n",
       "      <th>2</th>\n",
       "      <td>2016-06-19</td>\n",
       "      <td>QN</td>\n",
       "      <td>0</td>\n",
       "      <td>7</td>\n",
       "      <td>891</td>\n",
       "      <td>Vehicles photographed going through a red ligh...</td>\n",
       "      <td>50</td>\n",
       "      <td>50</td>\n",
       "    </tr>\n",
       "    <tr>\n",
       "      <th>3</th>\n",
       "      <td>2016-06-18</td>\n",
       "      <td>QN</td>\n",
       "      <td>0</td>\n",
       "      <td>7</td>\n",
       "      <td>889</td>\n",
       "      <td>Vehicles photographed going through a red ligh...</td>\n",
       "      <td>50</td>\n",
       "      <td>50</td>\n",
       "    </tr>\n",
       "    <tr>\n",
       "      <th>4</th>\n",
       "      <td>2016-06-26</td>\n",
       "      <td>BK</td>\n",
       "      <td>0</td>\n",
       "      <td>7</td>\n",
       "      <td>888</td>\n",
       "      <td>Vehicles photographed going through a red ligh...</td>\n",
       "      <td>50</td>\n",
       "      <td>50</td>\n",
       "    </tr>\n",
       "  </tbody>\n",
       "</table>\n",
       "</div>"
      ],
      "text/plain": [
       "  Issue Date Violation County  Violation Precinct  Violation Code  \\\n",
       "0 2016-06-19               BK                   0               7   \n",
       "1 2017-05-19               QN                   0               7   \n",
       "2 2016-06-19               QN                   0               7   \n",
       "3 2016-06-18               QN                   0               7   \n",
       "4 2016-06-26               BK                   0               7   \n",
       "\n",
       "   Summons Number                                         Definition  \\\n",
       "0             910  Vehicles photographed going through a red ligh...   \n",
       "1             907  Vehicles photographed going through a red ligh...   \n",
       "2             891  Vehicles photographed going through a red ligh...   \n",
       "3             889  Vehicles photographed going through a red ligh...   \n",
       "4             888  Vehicles photographed going through a red ligh...   \n",
       "\n",
       "   manhattan_96_and_below  all_other_areas  \n",
       "0                      50               50  \n",
       "1                      50               50  \n",
       "2                      50               50  \n",
       "3                      50               50  \n",
       "4                      50               50  "
      ]
     },
     "metadata": {},
     "output_type": "display_data"
    }
   ],
   "source": [
    "@bodo.jit(cache=True)\n",
    "def merge_violation_code(main_df, violation_codes):\n",
    "    start = time.time()\n",
    "    # left join main_df and violation_codes df so that there's more info on violation in main_df\n",
    "    main_df = pd.merge(main_df, violation_codes, on='Violation Code', how='left')\n",
    "    # cast precincts as integers from floats (inadvertent type change by merge)\n",
    "    main_df['Violation Precinct'] = main_df['Violation Precinct'].astype(int)    \n",
    "    end = time.time()\n",
    "    print(\"Merge time: \", (end-start))\n",
    "    print(main_df.shape)\n",
    "    return main_df\n",
    "\n",
    "main_w_violation = merge_violation_code(main_df, violation_codes)\n",
    "display(main_w_violation.head())"
   ]
  },
  {
   "cell_type": "markdown",
   "metadata": {},
   "source": [
    "## Compute Cost of Summons For Each Precinct.\n",
    "\n",
    "1. Most violations have different ticket prices, based on whether they occur in Manhattan below 96th St. or elsewhere in New York City. The daily revenue for each violation type in each precinct are determined by multiplying the number of offenses by the average cost of the offense (based on how much of the precinct is in Manhattan below 96th St.)."
   ]
  },
  {
   "cell_type": "code",
   "execution_count": 8,
   "metadata": {
    "execution": {
     "iopub.execute_input": "2022-03-15T18:31:16.782918Z",
     "iopub.status.busy": "2022-03-15T18:31:16.782773Z",
     "iopub.status.idle": "2022-03-15T18:31:24.387804Z",
     "shell.execute_reply": "2022-03-15T18:31:24.386988Z",
     "shell.execute_reply.started": "2022-03-15T18:31:16.782900Z"
    },
    "tags": []
   },
   "outputs": [
    {
     "name": "stdout",
     "output_type": "stream",
     "text": [
      "Calculate Total Summons Time:  1.2561660000000074\n"
     ]
    },
    {
     "data": {
      "text/html": [
       "<div>\n",
       "<style scoped>\n",
       "    .dataframe tbody tr th:only-of-type {\n",
       "        vertical-align: middle;\n",
       "    }\n",
       "\n",
       "    .dataframe tbody tr th {\n",
       "        vertical-align: top;\n",
       "    }\n",
       "\n",
       "    .dataframe thead th {\n",
       "        text-align: right;\n",
       "    }\n",
       "</style>\n",
       "<table border=\"1\" class=\"dataframe\">\n",
       "  <thead>\n",
       "    <tr style=\"text-align: right;\">\n",
       "      <th></th>\n",
       "      <th>Issue Date</th>\n",
       "      <th>Violation County</th>\n",
       "      <th>Violation Precinct</th>\n",
       "      <th>Violation Code</th>\n",
       "      <th>Summons Number</th>\n",
       "      <th>Definition</th>\n",
       "      <th>manhattan_96_and_below</th>\n",
       "      <th>all_other_areas</th>\n",
       "      <th>portion_manhattan_96_and_below</th>\n",
       "      <th>average_summons_amount</th>\n",
       "      <th>total_summons_dollars</th>\n",
       "    </tr>\n",
       "  </thead>\n",
       "  <tbody>\n",
       "    <tr>\n",
       "      <th>289</th>\n",
       "      <td>2017-04-11</td>\n",
       "      <td>NY</td>\n",
       "      <td>19</td>\n",
       "      <td>46</td>\n",
       "      <td>554</td>\n",
       "      <td>Standing or parking on the roadway side of a v...</td>\n",
       "      <td>115</td>\n",
       "      <td>115</td>\n",
       "      <td>1</td>\n",
       "      <td>115</td>\n",
       "      <td>63710</td>\n",
       "    </tr>\n",
       "    <tr>\n",
       "      <th>318</th>\n",
       "      <td>2017-03-22</td>\n",
       "      <td>NY</td>\n",
       "      <td>19</td>\n",
       "      <td>46</td>\n",
       "      <td>544</td>\n",
       "      <td>Standing or parking on the roadway side of a v...</td>\n",
       "      <td>115</td>\n",
       "      <td>115</td>\n",
       "      <td>1</td>\n",
       "      <td>115</td>\n",
       "      <td>62560</td>\n",
       "    </tr>\n",
       "    <tr>\n",
       "      <th>322</th>\n",
       "      <td>2016-09-30</td>\n",
       "      <td>BK</td>\n",
       "      <td>0</td>\n",
       "      <td>5</td>\n",
       "      <td>542</td>\n",
       "      <td>Failure to make a right turn from a bus lane.</td>\n",
       "      <td>115</td>\n",
       "      <td>115</td>\n",
       "      <td>1</td>\n",
       "      <td>115</td>\n",
       "      <td>62330</td>\n",
       "    </tr>\n",
       "    <tr>\n",
       "      <th>328</th>\n",
       "      <td>2017-03-30</td>\n",
       "      <td>NY</td>\n",
       "      <td>19</td>\n",
       "      <td>46</td>\n",
       "      <td>540</td>\n",
       "      <td>Standing or parking on the roadway side of a v...</td>\n",
       "      <td>115</td>\n",
       "      <td>115</td>\n",
       "      <td>1</td>\n",
       "      <td>115</td>\n",
       "      <td>62100</td>\n",
       "    </tr>\n",
       "    <tr>\n",
       "      <th>362</th>\n",
       "      <td>2017-04-13</td>\n",
       "      <td>NY</td>\n",
       "      <td>19</td>\n",
       "      <td>46</td>\n",
       "      <td>526</td>\n",
       "      <td>Standing or parking on the roadway side of a v...</td>\n",
       "      <td>115</td>\n",
       "      <td>115</td>\n",
       "      <td>1</td>\n",
       "      <td>115</td>\n",
       "      <td>60490</td>\n",
       "    </tr>\n",
       "  </tbody>\n",
       "</table>\n",
       "</div>"
      ],
      "text/plain": [
       "    Issue Date Violation County  Violation Precinct  Violation Code  \\\n",
       "289 2017-04-11               NY                  19              46   \n",
       "318 2017-03-22               NY                  19              46   \n",
       "322 2016-09-30               BK                   0               5   \n",
       "328 2017-03-30               NY                  19              46   \n",
       "362 2017-04-13               NY                  19              46   \n",
       "\n",
       "     Summons Number                                         Definition  \\\n",
       "289             554  Standing or parking on the roadway side of a v...   \n",
       "318             544  Standing or parking on the roadway side of a v...   \n",
       "322             542      Failure to make a right turn from a bus lane.   \n",
       "328             540  Standing or parking on the roadway side of a v...   \n",
       "362             526  Standing or parking on the roadway side of a v...   \n",
       "\n",
       "     manhattan_96_and_below  all_other_areas  portion_manhattan_96_and_below  \\\n",
       "289                     115              115                               1   \n",
       "318                     115              115                               1   \n",
       "322                     115              115                               1   \n",
       "328                     115              115                               1   \n",
       "362                     115              115                               1   \n",
       "\n",
       "     average_summons_amount  total_summons_dollars  \n",
       "289                     115                  63710  \n",
       "318                     115                  62560  \n",
       "322                     115                  62330  \n",
       "328                     115                  62100  \n",
       "362                     115                  60490  "
      ]
     },
     "metadata": {},
     "output_type": "display_data"
    }
   ],
   "source": [
    "#calculate the total summonses in dollars for a violation in a precinct on a day\n",
    "@bodo.jit(cache=True)\n",
    "def calculate_total_summons(main_df):\n",
    "    start = time.time()\n",
    "    #create column for portion of precinct 96th st. and below\n",
    "    n = len(main_df)\n",
    "    portion_manhattan_96_and_below = np.empty(n, np.int64)\n",
    "    # NOTE: To run pandas, use this loop.\n",
    "    # for i in range(n):\n",
    "    for i in bodo.prange(n):\n",
    "        x = main_df['Violation Precinct'].iat[i]\n",
    "        if x < 22 or x == 23:\n",
    "            portion_manhattan_96_and_below[i] = 1.0\n",
    "        elif x == 22:\n",
    "            portion_manhattan_96_and_below[i] = 0.75\n",
    "        elif x == 24:\n",
    "            portion_manhattan_96_and_below[i] = 0.5\n",
    "        else: #other\n",
    "            portion_manhattan_96_and_below[i] = 0\n",
    "    main_df[\"portion_manhattan_96_and_below\"] = portion_manhattan_96_and_below\n",
    "\n",
    "    #create column for average dollar amount of summons based on location\n",
    "    main_df['average_summons_amount'] = (main_df['portion_manhattan_96_and_below'] * main_df['manhattan_96_and_below'] \n",
    "                                     + (1 - main_df['portion_manhattan_96_and_below']) * main_df['all_other_areas'])\n",
    "\n",
    "    #get total summons dollars by multiplying average dollar amount by number of summons given\n",
    "    main_df['total_summons_dollars'] = main_df['Summons Number'] * main_df['average_summons_amount']\n",
    "    main_df = main_df.sort_values(by=['total_summons_dollars'], ascending=False)\n",
    "    end = time.time()    \n",
    "    print(\"Calculate Total Summons Time: \", (end-start))\n",
    "    return main_df\n",
    "\n",
    "total_summons = calculate_total_summons(main_w_violation)\n",
    "display(total_summons.head())"
   ]
  },
  {
   "cell_type": "markdown",
   "metadata": {},
   "source": [
    "2. The aggregate function aggregates main_df by precinct. Once the data is run through this function that it will have a single row per precinct with the precinct number, the number of summonses, and the combined dollar value of the summonses."
   ]
  },
  {
   "cell_type": "code",
   "execution_count": 9,
   "metadata": {
    "execution": {
     "iopub.execute_input": "2022-03-15T18:31:24.388495Z",
     "iopub.status.busy": "2022-03-15T18:31:24.388299Z",
     "iopub.status.idle": "2022-03-15T18:31:28.803798Z",
     "shell.execute_reply": "2022-03-15T18:31:28.803208Z",
     "shell.execute_reply.started": "2022-03-15T18:31:24.388475Z"
    },
    "tags": []
   },
   "outputs": [
    {
     "name": "stdout",
     "output_type": "stream",
     "text": [
      "Aggregate code time:  1.2554039999999986\n"
     ]
    },
    {
     "data": {
      "text/html": [
       "<div>\n",
       "<style scoped>\n",
       "    .dataframe tbody tr th:only-of-type {\n",
       "        vertical-align: middle;\n",
       "    }\n",
       "\n",
       "    .dataframe tbody tr th {\n",
       "        vertical-align: top;\n",
       "    }\n",
       "\n",
       "    .dataframe thead th {\n",
       "        text-align: right;\n",
       "    }\n",
       "</style>\n",
       "<table border=\"1\" class=\"dataframe\">\n",
       "  <thead>\n",
       "    <tr style=\"text-align: right;\">\n",
       "      <th></th>\n",
       "      <th>Violation Precinct</th>\n",
       "      <th>Summons Number</th>\n",
       "      <th>total_summons_dollars</th>\n",
       "    </tr>\n",
       "  </thead>\n",
       "  <tbody>\n",
       "    <tr>\n",
       "      <th>214</th>\n",
       "      <td>19</td>\n",
       "      <td>795615</td>\n",
       "      <td>69402435</td>\n",
       "    </tr>\n",
       "    <tr>\n",
       "      <th>127</th>\n",
       "      <td>14</td>\n",
       "      <td>500438</td>\n",
       "      <td>48019275</td>\n",
       "    </tr>\n",
       "    <tr>\n",
       "      <th>49</th>\n",
       "      <td>0</td>\n",
       "      <td>710758</td>\n",
       "      <td>46152490</td>\n",
       "    </tr>\n",
       "    <tr>\n",
       "      <th>80</th>\n",
       "      <td>1</td>\n",
       "      <td>480341</td>\n",
       "      <td>45338900</td>\n",
       "    </tr>\n",
       "    <tr>\n",
       "      <th>26</th>\n",
       "      <td>18</td>\n",
       "      <td>453506</td>\n",
       "      <td>44068990</td>\n",
       "    </tr>\n",
       "  </tbody>\n",
       "</table>\n",
       "</div>"
      ],
      "text/plain": [
       "     Violation Precinct  Summons Number  total_summons_dollars\n",
       "214                  19          795615               69402435\n",
       "127                  14          500438               48019275\n",
       "49                    0          710758               46152490\n",
       "80                    1          480341               45338900\n",
       "26                   18          453506               44068990"
      ]
     },
     "metadata": {},
     "output_type": "display_data"
    }
   ],
   "source": [
    "@bodo.jit(cache=True)\n",
    "def aggregate(main_df):\n",
    "    '''function that aggregates and filters data\n",
    "    e.g. total violations by precinct\n",
    "    '''\n",
    "    start = time.time()\n",
    "    filtered_dataset = main_df[['Violation Precinct','Summons Number', 'total_summons_dollars']]\n",
    "    precinct_offenses_df = filtered_dataset.groupby(by=['Violation Precinct']).sum().reset_index().fillna(0)\n",
    "    end = time.time()\n",
    "    precinct_offenses_df = precinct_offenses_df.sort_values(\"total_summons_dollars\", ascending=False)\n",
    "    print(\"Aggregate code time: \", (end-start))\n",
    "    return precinct_offenses_df\n",
    "\n",
    "precinct_offenses_df = aggregate(total_summons)\n",
    "display(precinct_offenses_df.head())    "
   ]
  }
 ],
 "metadata": {
  "interpreter": {
   "hash": "16c8ad1c156570dbb9b8c59e261dba05f4270231d6ef51b3fb205099379bfe9f"
  },
  "kernelspec": {
   "display_name": "Python 3 (ipykernel)",
   "language": "python",
   "name": "python3"
  },
  "language_info": {
   "codemirror_mode": {
    "name": "ipython",
    "version": 3
   },
   "file_extension": ".py",
   "mimetype": "text/x-python",
   "name": "python",
   "nbconvert_exporter": "python",
   "pygments_lexer": "ipython3",
   "version": "3.12.7"
  }
 },
 "nbformat": 4,
 "nbformat_minor": 4
}
