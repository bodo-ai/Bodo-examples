{
 "cells": [
  {
   "cell_type": "markdown",
   "metadata": {
    "pycharm": {
     "name": "#%% md\n"
    }
   },
   "source": [
    "# Getting Started with Bodo"
   ]
  },
  {
   "cell_type": "markdown",
   "metadata": {
    "pycharm": {
     "name": "#%% md\n"
    }
   },
   "source": [
    "\n",
    "---------------\n",
    "\n",
    "## Create a local cluster\n",
    "\n",
    "The first step to run bodo efficiently is to run it on a cluster.\n",
    "- You are currently running this code in a container on a local machine. \n",
    "- To create a cluster, you need to run the following boiler plate code. This will create an ipyparallel cluster with maximum of 8 cores.\n",
    "- If you use bodo platform at platform.bodo.ai, you can create large clusters with multiple nodes. Bodo will take care of creating the cluster with optimum configurations and you don't need to run the following code block. Just move to the **\"Run A SQL Query\"** Section. \n"
   ]
  },
  {
   "cell_type": "markdown",
   "metadata": {
    "pycharm": {
     "name": "#%% md\n"
    }
   },
   "source": [
    "## Run A SQL Query\n",
    "\n",
    "Lets run simple SQL query to generate a quick summary of a dataset stored in parquet format in a public S3 bucket hosted by Bodo. We are using an NYC taxi dataset[<sup>1</sup>](#fn1) containing info about yellow and green taxi trips originating in New York City in 2019. The size of this dataset is about 8GB. \n",
    "\n",
    "\n",
    "Run the next code cell to generate a table summary, grouped by passenger counts, showing rounded off average and total fares. If you are running this query on the Community Edition Cluster, you should see 8 core outputs, some of which might be empty. "
   ]
  },
  {
   "cell_type": "code",
   "execution_count": 2,
   "metadata": {
    "lang": "Parallel-Python",
    "pycharm": {
     "name": "#%%\n"
    },
    "tags": []
   },
   "outputs": [
    {
     "data": {
      "text/html": [
       "<div>\n",
       "<style scoped>\n",
       "    .dataframe tbody tr th:only-of-type {\n",
       "        vertical-align: middle;\n",
       "    }\n",
       "\n",
       "    .dataframe tbody tr th {\n",
       "        vertical-align: top;\n",
       "    }\n",
       "\n",
       "    .dataframe thead th {\n",
       "        text-align: right;\n",
       "    }\n",
       "</style>\n",
       "<table border=\"1\" class=\"dataframe\">\n",
       "  <thead>\n",
       "    <tr style=\"text-align: right;\">\n",
       "      <th></th>\n",
       "      <th>passenger_count</th>\n",
       "      <th>TOTALFARES</th>\n",
       "      <th>AVGFARES</th>\n",
       "    </tr>\n",
       "  </thead>\n",
       "  <tbody>\n",
       "    <tr>\n",
       "      <th>0</th>\n",
       "      <td>9</td>\n",
       "      <td>2250.0</td>\n",
       "      <td>49.0</td>\n",
       "    </tr>\n",
       "    <tr>\n",
       "      <th>1</th>\n",
       "      <td>8</td>\n",
       "      <td>3854.0</td>\n",
       "      <td>54.0</td>\n",
       "    </tr>\n",
       "    <tr>\n",
       "      <th>2</th>\n",
       "      <td>4</td>\n",
       "      <td>5030361.0</td>\n",
       "      <td>13.0</td>\n",
       "    </tr>\n",
       "    <tr>\n",
       "      <th>3</th>\n",
       "      <td>1</td>\n",
       "      <td>190001767.0</td>\n",
       "      <td>13.0</td>\n",
       "    </tr>\n",
       "    <tr>\n",
       "      <th>4</th>\n",
       "      <td>3</td>\n",
       "      <td>11024521.0</td>\n",
       "      <td>13.0</td>\n",
       "    </tr>\n",
       "    <tr>\n",
       "      <th>5</th>\n",
       "      <td>2</td>\n",
       "      <td>40135971.0</td>\n",
       "      <td>13.0</td>\n",
       "    </tr>\n",
       "    <tr>\n",
       "      <th>6</th>\n",
       "      <td>0</td>\n",
       "      <td>4862469.0</td>\n",
       "      <td>14.0</td>\n",
       "    </tr>\n",
       "    <tr>\n",
       "      <th>7</th>\n",
       "      <td>7</td>\n",
       "      <td>4017.0</td>\n",
       "      <td>51.0</td>\n",
       "    </tr>\n",
       "    <tr>\n",
       "      <th>8</th>\n",
       "      <td>5</td>\n",
       "      <td>11343053.0</td>\n",
       "      <td>13.0</td>\n",
       "    </tr>\n",
       "    <tr>\n",
       "      <th>9</th>\n",
       "      <td>6</td>\n",
       "      <td>6764732.0</td>\n",
       "      <td>12.0</td>\n",
       "    </tr>\n",
       "  </tbody>\n",
       "</table>\n",
       "</div>"
      ],
      "text/plain": [
       "   passenger_count   TOTALFARES  AVGFARES\n",
       "0                9       2250.0      49.0\n",
       "1                8       3854.0      54.0\n",
       "2                4    5030361.0      13.0\n",
       "3                1  190001767.0      13.0\n",
       "4                3   11024521.0      13.0\n",
       "5                2   40135971.0      13.0\n",
       "6                0    4862469.0      14.0\n",
       "7                7       4017.0      51.0\n",
       "8                5   11343053.0      13.0\n",
       "9                6    6764732.0      12.0"
      ]
     },
     "execution_count": 2,
     "metadata": {},
     "output_type": "execute_result"
    }
   ],
   "source": [
    "import bodo\n",
    "import bodosql\n",
    "import warnings\n",
    "warnings.filterwarnings(\"ignore\")\n",
    "\n",
    "# File stored in public S3 bucket hosted by Bodo\n",
    "s3_file_path = \"s3://bodo-example-data/nyc-taxi/yellow_tripdata_2019_half.pq\" \n",
    "\n",
    "@bodo.jit(spawn=True)\n",
    "def simple_query():\n",
    "    \n",
    "    # reading file directly from S3\n",
    "    bc = bodosql.BodoSQLContext( {\"NYCTAXI\": bodosql.TablePath(s3_file_path, \"parquet\")})\n",
    "    \n",
    "    # executing SQL query \n",
    "    df1 = bc.sql('''\n",
    "                SELECT DISTINCT \"passenger_count\"\n",
    "                , ROUND (SUM (\"fare_amount\"),0) as TotalFares\n",
    "                , ROUND (AVG (\"fare_amount\"),0) as AvgFares\n",
    "                FROM NYCTAXI\n",
    "                GROUP BY \"passenger_count\"\n",
    "                ''')\n",
    "    \n",
    "    return df1 \n",
    "\n",
    "simple_query()\n"
   ]
  },
  {
   "cell_type": "markdown",
   "metadata": {
    "execution": {
     "iopub.execute_input": "2022-08-26T16:40:56.074854Z",
     "iopub.status.busy": "2022-08-26T16:40:56.074257Z",
     "iopub.status.idle": "2022-08-26T16:40:56.082000Z",
     "shell.execute_reply": "2022-08-26T16:40:56.081421Z",
     "shell.execute_reply.started": "2022-08-26T16:40:56.074826Z"
    }
   },
   "source": [
    "\n",
    "\n",
    "---\n",
    "</br>\n",
    "\n",
    "\n",
    "If you've made it this far, you have now run your first data processing SQL query with Bodo! Please consider joining our [community slack](https://bodocommunity.slack.com/join/shared_invite/zt-qwdc8fad-6rZ8a1RmkkJ6eOX1X__knA#/shared-invite/email) to get in touch directly with our engineers and other Bodo users like yourself. For more information and to learn about how Bodo works, visit our [docs](\"https://docs.bodo.ai\").\n",
    "\n",
    "\n",
    "\n"
   ]
  },
  {
   "cell_type": "markdown",
   "metadata": {
    "tags": []
   },
   "source": [
    "### Pandas Feature Engineering  \n",
    "\n",
    "\n",
    "You can do some feature engineering using pandas on the same NYC taxi dataset, enabling further data science workloads.  "
   ]
  },
  {
   "cell_type": "code",
   "execution_count": 3,
   "metadata": {
    "lang": "Parallel-Python",
    "tags": []
   },
   "outputs": [
    {
     "data": {
      "text/html": [
       "<div>\n",
       "<style scoped>\n",
       "    .dataframe tbody tr th:only-of-type {\n",
       "        vertical-align: middle;\n",
       "    }\n",
       "\n",
       "    .dataframe tbody tr th {\n",
       "        vertical-align: top;\n",
       "    }\n",
       "\n",
       "    .dataframe thead th {\n",
       "        text-align: right;\n",
       "    }\n",
       "</style>\n",
       "<table border=\"1\" class=\"dataframe\">\n",
       "  <thead>\n",
       "    <tr style=\"text-align: right;\">\n",
       "      <th></th>\n",
       "      <th>pickup_weekday</th>\n",
       "      <th>pickup_hour</th>\n",
       "      <th>pickup_week_hour</th>\n",
       "      <th>pickup_minute</th>\n",
       "      <th>passenger_count</th>\n",
       "      <th>tip_fraction</th>\n",
       "    </tr>\n",
       "  </thead>\n",
       "  <tbody>\n",
       "    <tr>\n",
       "      <th>0</th>\n",
       "      <td>1.0</td>\n",
       "      <td>0.0</td>\n",
       "      <td>24.0</td>\n",
       "      <td>46.0</td>\n",
       "      <td>1.0</td>\n",
       "      <td>0.235714</td>\n",
       "    </tr>\n",
       "    <tr>\n",
       "      <th>1</th>\n",
       "      <td>1.0</td>\n",
       "      <td>0.0</td>\n",
       "      <td>24.0</td>\n",
       "      <td>59.0</td>\n",
       "      <td>1.0</td>\n",
       "      <td>0.071429</td>\n",
       "    </tr>\n",
       "    <tr>\n",
       "      <th>2</th>\n",
       "      <td>4.0</td>\n",
       "      <td>13.0</td>\n",
       "      <td>109.0</td>\n",
       "      <td>48.0</td>\n",
       "      <td>3.0</td>\n",
       "      <td>0.000000</td>\n",
       "    </tr>\n",
       "    <tr>\n",
       "      <th>3</th>\n",
       "      <td>2.0</td>\n",
       "      <td>15.0</td>\n",
       "      <td>63.0</td>\n",
       "      <td>52.0</td>\n",
       "      <td>5.0</td>\n",
       "      <td>0.000000</td>\n",
       "    </tr>\n",
       "    <tr>\n",
       "      <th>4</th>\n",
       "      <td>2.0</td>\n",
       "      <td>15.0</td>\n",
       "      <td>63.0</td>\n",
       "      <td>56.0</td>\n",
       "      <td>5.0</td>\n",
       "      <td>0.000000</td>\n",
       "    </tr>\n",
       "  </tbody>\n",
       "</table>\n",
       "</div>"
      ],
      "text/plain": [
       "   pickup_weekday  pickup_hour  pickup_week_hour  pickup_minute  \\\n",
       "0             1.0          0.0              24.0           46.0   \n",
       "1             1.0          0.0              24.0           59.0   \n",
       "2             4.0         13.0             109.0           48.0   \n",
       "3             2.0         15.0              63.0           52.0   \n",
       "4             2.0         15.0              63.0           56.0   \n",
       "\n",
       "   passenger_count  tip_fraction  \n",
       "0              1.0      0.235714  \n",
       "1              1.0      0.071429  \n",
       "2              3.0      0.000000  \n",
       "3              5.0      0.000000  \n",
       "4              5.0      0.000000  "
      ]
     },
     "metadata": {},
     "output_type": "display_data"
    }
   ],
   "source": [
    "    import pandas as pd \n",
    "    \n",
    "    @bodo.jit(spawn=True)\n",
    "    def feat_eng():\n",
    "        \"\"\"\n",
    "        Generate features from a raw taxi dataframe.\n",
    "        \"\"\"\n",
    "        taxi_df = pd.read_parquet(\n",
    "            \"s3://bodo-example-data/nyc-taxi/yellow_tripdata_2019_half.pq\",\n",
    "            )\n",
    "        df = taxi_df[taxi_df.fare_amount > 0][\n",
    "            \"tpep_pickup_datetime\", \"passenger_count\", \"tip_amount\", \"fare_amount\"\n",
    "        ].copy()  # avoid divide-by-zero\n",
    "        df[\"tip_fraction\"] = df.tip_amount / df.fare_amount\n",
    "    \n",
    "        df[\"pickup_weekday\"] = df.tpep_pickup_datetime.dt.weekday\n",
    "        df[\"pickup_hour\"] = df.tpep_pickup_datetime.dt.hour\n",
    "        df[\"pickup_week_hour\"] = (df.pickup_weekday * 24) + df.pickup_hour\n",
    "        df[\"pickup_minute\"] = df.tpep_pickup_datetime.dt.minute\n",
    "        df = (\n",
    "            df[\n",
    "                \"pickup_weekday\",\n",
    "                \"pickup_hour\",\n",
    "                \"pickup_week_hour\",\n",
    "                \"pickup_minute\",\n",
    "                \"passenger_count\",\n",
    "                \"tip_fraction\",\n",
    "            ]\n",
    "            .astype(float)\n",
    "            .fillna(-1)\n",
    "        )\n",
    "        return df\n",
    "    \n",
    "    \n",
    "    taxi_feat = feat_eng()\n",
    "    display(taxi_feat.head())"
   ]
  },
  {
   "cell_type": "markdown",
   "metadata": {},
   "source": [
    "<div class=\"alert alert-info alert\" Note:\n",
    "     \n",
    "### note\n",
    "\n",
    "- The `@bodo.jit` decorator is an annotation to tell the bodo engine to parallelize the code. \n",
    "     \n",
    "</div>\n",
    "\n",
    "---\n",
    "\n",
    "\n",
    "### Footnotes \n",
    "\n",
    "\\[1\\] <span id=\"fn1\"> Original example can be found [here](\"https://github.com/toddwschneider/nyc-taxi-data\"). </span>\n",
    "\n",
    "</br>"
   ]
  }
 ],
 "metadata": {
  "interpreter": {
   "hash": "c055ab4e8dcaec5bc09e1db7dc9ba0af7856e6dca0079f8d0a35c557fbc4193a"
  },
  "kernelspec": {
   "display_name": "Python 3 (ipykernel)",
   "language": "python",
   "name": "python3"
  },
  "language_info": {
   "codemirror_mode": {
    "name": "ipython",
    "version": 3
   },
   "file_extension": ".py",
   "mimetype": "text/x-python",
   "name": "python",
   "nbconvert_exporter": "python",
   "pygments_lexer": "ipython3",
   "version": "3.12.7"
  }
 },
 "nbformat": 4,
 "nbformat_minor": 4
}
